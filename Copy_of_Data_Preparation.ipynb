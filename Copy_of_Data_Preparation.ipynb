{
  "nbformat": 4,
  "nbformat_minor": 0,
  "metadata": {
    "colab": {
      "name": "Copy of Data Preparation.ipynb",
      "provenance": [],
      "collapsed_sections": [],
      "toc_visible": true,
      "include_colab_link": true
    },
    "kernelspec": {
      "name": "python3",
      "display_name": "Python 3"
    }
  },
  "cells": [
    {
      "cell_type": "markdown",
      "metadata": {
        "id": "view-in-github",
        "colab_type": "text"
      },
      "source": [
        "<a href=\"https://colab.research.google.com/github/Chitha19/Azure/blob/main/Copy_of_Data_Preparation.ipynb\" target=\"_parent\"><img src=\"https://colab.research.google.com/assets/colab-badge.svg\" alt=\"Open In Colab\"/></a>"
      ]
    },
    {
      "cell_type": "markdown",
      "metadata": {
        "id": "469JqFXhxWfO"
      },
      "source": [
        "##Preparation\n",
        "Upload file mystudents.csv "
      ]
    },
    {
      "cell_type": "markdown",
      "metadata": {
        "id": "bWf2Ub562akR"
      },
      "source": [
        "#1.Data Cleansing or Cleaning\n",
        "**Ref:**\n",
        "* [ Pandas API](https://pandas.pydata.org/docs/reference/index.html)\n",
        "* [ DataFrame](https://pandas.pydata.org/docs/reference/frame.html)\n",
        "*  [Meidum: Data cleaning](https://medium.com/@info_46914/4-%E0%B8%82%E0%B8%B1%E0%B9%89%E0%B8%99%E0%B8%95%E0%B8%AD%E0%B8%99%E0%B8%81%E0%B8%B2%E0%B8%A3-clean-data-%E0%B8%AA%E0%B8%B3%E0%B8%84%E0%B8%B1%E0%B8%8D%E0%B9%84%E0%B8%89%E0%B8%99-why-data-quality-is-a-king-eb924a8e7d7e)\n",
        "* [Tutorialpoint: Data Cleansing](https://www.tutorialspoint.com/python_data_science/python_data_cleansing.htm)\n",
        "*[TowardsDataScience: Data cleaning](https://towardsdatascience.com/the-ultimate-guide-to-data-cleaning-3969843991d4)\n",
        "\n"
      ]
    },
    {
      "cell_type": "markdown",
      "metadata": {
        "id": "gelGao-V4q-S"
      },
      "source": [
        "#1.1 Data Missing\n",
        "Handing missing values, such as NA or NAN (Not a Number), using Pandas"
      ]
    },
    {
      "cell_type": "code",
      "metadata": {
        "colab": {
          "base_uri": "https://localhost:8080/",
          "height": 143
        },
        "id": "5vTFnKLMpyDg",
        "outputId": "8a0fda12-7d4a-4d33-aecf-6c0b350a83a8"
      },
      "source": [
        "import pandas as pd\n",
        "import numpy as np\n",
        "\n",
        "student_dict = {'Name': ['Joe', 'Sam', 'Harry'], 'Age': [20, 21, 19], 'Mark': [85.10, np.nan, 91.54]}\n",
        "\n",
        "# Create DataFrame from dict\n",
        "df = pd.DataFrame(student_dict)\n",
        "df"
      ],
      "execution_count": null,
      "outputs": [
        {
          "output_type": "execute_result",
          "data": {
            "text/html": [
              "<div>\n",
              "<style scoped>\n",
              "    .dataframe tbody tr th:only-of-type {\n",
              "        vertical-align: middle;\n",
              "    }\n",
              "\n",
              "    .dataframe tbody tr th {\n",
              "        vertical-align: top;\n",
              "    }\n",
              "\n",
              "    .dataframe thead th {\n",
              "        text-align: right;\n",
              "    }\n",
              "</style>\n",
              "<table border=\"1\" class=\"dataframe\">\n",
              "  <thead>\n",
              "    <tr style=\"text-align: right;\">\n",
              "      <th></th>\n",
              "      <th>Name</th>\n",
              "      <th>Age</th>\n",
              "      <th>Mark</th>\n",
              "    </tr>\n",
              "  </thead>\n",
              "  <tbody>\n",
              "    <tr>\n",
              "      <th>0</th>\n",
              "      <td>Joe</td>\n",
              "      <td>20</td>\n",
              "      <td>85.10</td>\n",
              "    </tr>\n",
              "    <tr>\n",
              "      <th>1</th>\n",
              "      <td>Sam</td>\n",
              "      <td>21</td>\n",
              "      <td>NaN</td>\n",
              "    </tr>\n",
              "    <tr>\n",
              "      <th>2</th>\n",
              "      <td>Harry</td>\n",
              "      <td>19</td>\n",
              "      <td>91.54</td>\n",
              "    </tr>\n",
              "  </tbody>\n",
              "</table>\n",
              "</div>"
            ],
            "text/plain": [
              "    Name  Age   Mark\n",
              "0    Joe   20  85.10\n",
              "1    Sam   21    NaN\n",
              "2  Harry   19  91.54"
            ]
          },
          "metadata": {},
          "execution_count": 1
        }
      ]
    },
    {
      "cell_type": "markdown",
      "metadata": {
        "id": "xMH8OxCg6yVS"
      },
      "source": [
        "##1.Check for Missing Values\n",
        "To make detecting missing values easier (and across different array dtypes), Pandas provides the **isnull()** and **notnull()** functions, which are also methods on Series and DataFrame objects."
      ]
    },
    {
      "cell_type": "code",
      "metadata": {
        "id": "4eqUzFTiEqrf",
        "colab": {
          "base_uri": "https://localhost:8080/",
          "height": 143
        },
        "outputId": "297f7b8c-67c2-4acb-bd05-bb28f6419d3d"
      },
      "source": [
        "df.notnull()"
      ],
      "execution_count": null,
      "outputs": [
        {
          "output_type": "execute_result",
          "data": {
            "text/html": [
              "<div>\n",
              "<style scoped>\n",
              "    .dataframe tbody tr th:only-of-type {\n",
              "        vertical-align: middle;\n",
              "    }\n",
              "\n",
              "    .dataframe tbody tr th {\n",
              "        vertical-align: top;\n",
              "    }\n",
              "\n",
              "    .dataframe thead th {\n",
              "        text-align: right;\n",
              "    }\n",
              "</style>\n",
              "<table border=\"1\" class=\"dataframe\">\n",
              "  <thead>\n",
              "    <tr style=\"text-align: right;\">\n",
              "      <th></th>\n",
              "      <th>Name</th>\n",
              "      <th>Age</th>\n",
              "      <th>Mark</th>\n",
              "    </tr>\n",
              "  </thead>\n",
              "  <tbody>\n",
              "    <tr>\n",
              "      <th>0</th>\n",
              "      <td>True</td>\n",
              "      <td>True</td>\n",
              "      <td>True</td>\n",
              "    </tr>\n",
              "    <tr>\n",
              "      <th>1</th>\n",
              "      <td>True</td>\n",
              "      <td>True</td>\n",
              "      <td>False</td>\n",
              "    </tr>\n",
              "    <tr>\n",
              "      <th>2</th>\n",
              "      <td>True</td>\n",
              "      <td>True</td>\n",
              "      <td>True</td>\n",
              "    </tr>\n",
              "  </tbody>\n",
              "</table>\n",
              "</div>"
            ],
            "text/plain": [
              "   Name   Age   Mark\n",
              "0  True  True   True\n",
              "1  True  True  False\n",
              "2  True  True   True"
            ]
          },
          "metadata": {},
          "execution_count": 2
        }
      ]
    },
    {
      "cell_type": "code",
      "metadata": {
        "id": "BbJJ54W5C5rO",
        "colab": {
          "base_uri": "https://localhost:8080/",
          "height": 143
        },
        "outputId": "4adac5b7-71ef-4b52-c2e0-6d48c1ba9d79"
      },
      "source": [
        "df.isnull()"
      ],
      "execution_count": null,
      "outputs": [
        {
          "output_type": "execute_result",
          "data": {
            "text/html": [
              "<div>\n",
              "<style scoped>\n",
              "    .dataframe tbody tr th:only-of-type {\n",
              "        vertical-align: middle;\n",
              "    }\n",
              "\n",
              "    .dataframe tbody tr th {\n",
              "        vertical-align: top;\n",
              "    }\n",
              "\n",
              "    .dataframe thead th {\n",
              "        text-align: right;\n",
              "    }\n",
              "</style>\n",
              "<table border=\"1\" class=\"dataframe\">\n",
              "  <thead>\n",
              "    <tr style=\"text-align: right;\">\n",
              "      <th></th>\n",
              "      <th>Name</th>\n",
              "      <th>Age</th>\n",
              "      <th>Mark</th>\n",
              "    </tr>\n",
              "  </thead>\n",
              "  <tbody>\n",
              "    <tr>\n",
              "      <th>0</th>\n",
              "      <td>False</td>\n",
              "      <td>False</td>\n",
              "      <td>False</td>\n",
              "    </tr>\n",
              "    <tr>\n",
              "      <th>1</th>\n",
              "      <td>False</td>\n",
              "      <td>False</td>\n",
              "      <td>True</td>\n",
              "    </tr>\n",
              "    <tr>\n",
              "      <th>2</th>\n",
              "      <td>False</td>\n",
              "      <td>False</td>\n",
              "      <td>False</td>\n",
              "    </tr>\n",
              "  </tbody>\n",
              "</table>\n",
              "</div>"
            ],
            "text/plain": [
              "    Name    Age   Mark\n",
              "0  False  False  False\n",
              "1  False  False   True\n",
              "2  False  False  False"
            ]
          },
          "metadata": {},
          "execution_count": 3
        }
      ]
    },
    {
      "cell_type": "code",
      "metadata": {
        "id": "MVI8v6BoCmlH",
        "colab": {
          "base_uri": "https://localhost:8080/"
        },
        "outputId": "13545ebb-3463-4c05-d905-beba950da64b"
      },
      "source": [
        "df['Mark'].isnull()"
      ],
      "execution_count": null,
      "outputs": [
        {
          "output_type": "execute_result",
          "data": {
            "text/plain": [
              "0    False\n",
              "1     True\n",
              "2    False\n",
              "Name: Mark, dtype: bool"
            ]
          },
          "metadata": {},
          "execution_count": 4
        }
      ]
    },
    {
      "cell_type": "code",
      "metadata": {
        "colab": {
          "base_uri": "https://localhost:8080/"
        },
        "id": "MoBRf9wHrQ-n",
        "outputId": "66b20a49-bb9b-4806-d722-54ad489c4714"
      },
      "source": [
        "df['Mark'].isnull().any()"
      ],
      "execution_count": null,
      "outputs": [
        {
          "output_type": "execute_result",
          "data": {
            "text/plain": [
              "True"
            ]
          },
          "metadata": {},
          "execution_count": 5
        }
      ]
    },
    {
      "cell_type": "code",
      "metadata": {
        "colab": {
          "base_uri": "https://localhost:8080/"
        },
        "id": "FxSxBwGOrbC9",
        "outputId": "26f72507-b1f3-4556-ab63-e662a96bfb14"
      },
      "source": [
        "df['Mark'].notnull().all()"
      ],
      "execution_count": null,
      "outputs": [
        {
          "output_type": "execute_result",
          "data": {
            "text/plain": [
              "False"
            ]
          },
          "metadata": {},
          "execution_count": 6
        }
      ]
    },
    {
      "cell_type": "code",
      "metadata": {
        "id": "ULlS9L7MYBDR",
        "colab": {
          "base_uri": "https://localhost:8080/"
        },
        "outputId": "86570570-ee0f-4dd7-f968-f52e57fea477"
      },
      "source": [
        "df.info()"
      ],
      "execution_count": null,
      "outputs": [
        {
          "output_type": "stream",
          "text": [
            "<class 'pandas.core.frame.DataFrame'>\n",
            "RangeIndex: 3 entries, 0 to 2\n",
            "Data columns (total 3 columns):\n",
            " #   Column  Non-Null Count  Dtype  \n",
            "---  ------  --------------  -----  \n",
            " 0   Name    3 non-null      object \n",
            " 1   Age     3 non-null      int64  \n",
            " 2   Mark    2 non-null      float64\n",
            "dtypes: float64(1), int64(1), object(1)\n",
            "memory usage: 200.0+ bytes\n"
          ],
          "name": "stdout"
        }
      ]
    },
    {
      "cell_type": "code",
      "metadata": {
        "colab": {
          "base_uri": "https://localhost:8080/"
        },
        "id": "bd2OAPr5vj8I",
        "outputId": "eadcd38f-f700-4c99-928f-435278cb4e9e"
      },
      "source": [
        "df.isna().sum()"
      ],
      "execution_count": null,
      "outputs": [
        {
          "output_type": "execute_result",
          "data": {
            "text/plain": [
              "Name    0\n",
              "Age     0\n",
              "Mark    1\n",
              "dtype: int64"
            ]
          },
          "metadata": {},
          "execution_count": 8
        }
      ]
    },
    {
      "cell_type": "code",
      "metadata": {
        "colab": {
          "base_uri": "https://localhost:8080/"
        },
        "id": "adasI76cx0YX",
        "outputId": "87af6cca-d6e9-42ee-b19f-dc85c9966f3e"
      },
      "source": [
        "# Checking the missing values\n",
        "df.isnull().sum()"
      ],
      "execution_count": null,
      "outputs": [
        {
          "output_type": "execute_result",
          "data": {
            "text/plain": [
              "Name    0\n",
              "Age     0\n",
              "Mark    1\n",
              "dtype: int64"
            ]
          },
          "metadata": {},
          "execution_count": 9
        }
      ]
    },
    {
      "cell_type": "code",
      "metadata": {
        "colab": {
          "base_uri": "https://localhost:8080/"
        },
        "id": "3gIJtuoCn_16",
        "outputId": "44eb5979-52e6-4ad2-fbfc-96c20dfa05f6"
      },
      "source": [
        "#see data types in each colums\n",
        "df.dtypes"
      ],
      "execution_count": null,
      "outputs": [
        {
          "output_type": "execute_result",
          "data": {
            "text/plain": [
              "Name     object\n",
              "Age       int64\n",
              "Mark    float64\n",
              "dtype: object"
            ]
          },
          "metadata": {},
          "execution_count": 10
        }
      ]
    },
    {
      "cell_type": "markdown",
      "metadata": {
        "id": "a8JOKAfDFIGt"
      },
      "source": [
        "##2.Fill Missing Values\n",
        "The fillna function can “fill in” NA values with non-null data in a couple of ways.\n",
        "\n",
        "**DataFrame.fillna(value=None, method=None, axis=None, inplace=False, limit=None, downcast=None)**\n",
        "\n",
        "Fill NA/NaN values using the specified method.\n",
        "\n",
        "**Ref:**\n",
        "[Pandas fillna doc](https://pandas.pydata.org/pandas-docs/stable/reference/api/pandas.DataFrame.fillna.html)"
      ]
    },
    {
      "cell_type": "markdown",
      "metadata": {
        "id": "1Y-KC8PFi_xG"
      },
      "source": [
        "###Ex1"
      ]
    },
    {
      "cell_type": "code",
      "metadata": {
        "colab": {
          "base_uri": "https://localhost:8080/",
          "height": 143
        },
        "id": "ME77sObF4CK0",
        "outputId": "ca57d6f7-834d-48ca-b83f-68faeb815aa9"
      },
      "source": [
        "student_dict = {'Name': ['Joe', 'Sam', 'Harry'], 'Age': [20, 21, 19], 'Mark': [85.10, np.nan, 91.54]}\n",
        "\n",
        "df = pd.DataFrame(student_dict)\n",
        "df"
      ],
      "execution_count": null,
      "outputs": [
        {
          "output_type": "execute_result",
          "data": {
            "text/html": [
              "<div>\n",
              "<style scoped>\n",
              "    .dataframe tbody tr th:only-of-type {\n",
              "        vertical-align: middle;\n",
              "    }\n",
              "\n",
              "    .dataframe tbody tr th {\n",
              "        vertical-align: top;\n",
              "    }\n",
              "\n",
              "    .dataframe thead th {\n",
              "        text-align: right;\n",
              "    }\n",
              "</style>\n",
              "<table border=\"1\" class=\"dataframe\">\n",
              "  <thead>\n",
              "    <tr style=\"text-align: right;\">\n",
              "      <th></th>\n",
              "      <th>Name</th>\n",
              "      <th>Age</th>\n",
              "      <th>Mark</th>\n",
              "    </tr>\n",
              "  </thead>\n",
              "  <tbody>\n",
              "    <tr>\n",
              "      <th>0</th>\n",
              "      <td>Joe</td>\n",
              "      <td>20</td>\n",
              "      <td>85.10</td>\n",
              "    </tr>\n",
              "    <tr>\n",
              "      <th>1</th>\n",
              "      <td>Sam</td>\n",
              "      <td>21</td>\n",
              "      <td>NaN</td>\n",
              "    </tr>\n",
              "    <tr>\n",
              "      <th>2</th>\n",
              "      <td>Harry</td>\n",
              "      <td>19</td>\n",
              "      <td>91.54</td>\n",
              "    </tr>\n",
              "  </tbody>\n",
              "</table>\n",
              "</div>"
            ],
            "text/plain": [
              "    Name  Age   Mark\n",
              "0    Joe   20  85.10\n",
              "1    Sam   21    NaN\n",
              "2  Harry   19  91.54"
            ]
          },
          "metadata": {},
          "execution_count": 11
        }
      ]
    },
    {
      "cell_type": "code",
      "metadata": {
        "colab": {
          "base_uri": "https://localhost:8080/",
          "height": 162
        },
        "id": "z_3q4xOFFHte",
        "outputId": "205b9513-ed27-42c6-a178-3f6f902d5c81"
      },
      "source": [
        "print(\"Replace NaN with '0':\")\n",
        "df1 = df.fillna(0)\n",
        "df1"
      ],
      "execution_count": null,
      "outputs": [
        {
          "output_type": "stream",
          "text": [
            "Replace NaN with '0':\n"
          ],
          "name": "stdout"
        },
        {
          "output_type": "execute_result",
          "data": {
            "text/html": [
              "<div>\n",
              "<style scoped>\n",
              "    .dataframe tbody tr th:only-of-type {\n",
              "        vertical-align: middle;\n",
              "    }\n",
              "\n",
              "    .dataframe tbody tr th {\n",
              "        vertical-align: top;\n",
              "    }\n",
              "\n",
              "    .dataframe thead th {\n",
              "        text-align: right;\n",
              "    }\n",
              "</style>\n",
              "<table border=\"1\" class=\"dataframe\">\n",
              "  <thead>\n",
              "    <tr style=\"text-align: right;\">\n",
              "      <th></th>\n",
              "      <th>Name</th>\n",
              "      <th>Age</th>\n",
              "      <th>Mark</th>\n",
              "    </tr>\n",
              "  </thead>\n",
              "  <tbody>\n",
              "    <tr>\n",
              "      <th>0</th>\n",
              "      <td>Joe</td>\n",
              "      <td>20</td>\n",
              "      <td>85.10</td>\n",
              "    </tr>\n",
              "    <tr>\n",
              "      <th>1</th>\n",
              "      <td>Sam</td>\n",
              "      <td>21</td>\n",
              "      <td>0.00</td>\n",
              "    </tr>\n",
              "    <tr>\n",
              "      <th>2</th>\n",
              "      <td>Harry</td>\n",
              "      <td>19</td>\n",
              "      <td>91.54</td>\n",
              "    </tr>\n",
              "  </tbody>\n",
              "</table>\n",
              "</div>"
            ],
            "text/plain": [
              "    Name  Age   Mark\n",
              "0    Joe   20  85.10\n",
              "1    Sam   21   0.00\n",
              "2  Harry   19  91.54"
            ]
          },
          "metadata": {},
          "execution_count": 12
        }
      ]
    },
    {
      "cell_type": "markdown",
      "metadata": {
        "id": "aQvYC1NwjIGK"
      },
      "source": [
        "###Ex2"
      ]
    },
    {
      "cell_type": "markdown",
      "metadata": {
        "id": "TVN9_Ft3J6Ex"
      },
      "source": [
        "**Impute**\n",
        "Imputation means to calculate the missing value based on other observations. There are quite a lot of methods to do that.\n",
        "\n",
        "— **First** one is using statistical values like mean, median. However, none of these guarantees unbiased data, especially if there are many missing values\n",
        "\n",
        "Mean is most useful when the original data is not skewed, while the median is more robust, not sensitive to outliers, and thus used when data is skewed.\n",
        "\n",
        "In a normally distributed data, one can get all the values that are within 2 standard deviations from the mean. Next, fill in the missing values by generating random numbers between (mean — 2 * std) & (mean + 2 * std)\n",
        "\n",
        "— **Second**. Using a linear regression. Based on the existing data, one can calculate the best fit line between two variables, say, house price vs. size m².\n",
        "It is worth mentioning that linear regression models are sensitive to outliers."
      ]
    },
    {
      "cell_type": "code",
      "metadata": {
        "colab": {
          "base_uri": "https://localhost:8080/",
          "height": 300
        },
        "id": "DIMieAZTFoZU",
        "outputId": "d47c20b6-4db8-4bd6-f3e1-44f539fe6b6c"
      },
      "source": [
        "df.describe()"
      ],
      "execution_count": null,
      "outputs": [
        {
          "output_type": "execute_result",
          "data": {
            "text/html": [
              "<div>\n",
              "<style scoped>\n",
              "    .dataframe tbody tr th:only-of-type {\n",
              "        vertical-align: middle;\n",
              "    }\n",
              "\n",
              "    .dataframe tbody tr th {\n",
              "        vertical-align: top;\n",
              "    }\n",
              "\n",
              "    .dataframe thead th {\n",
              "        text-align: right;\n",
              "    }\n",
              "</style>\n",
              "<table border=\"1\" class=\"dataframe\">\n",
              "  <thead>\n",
              "    <tr style=\"text-align: right;\">\n",
              "      <th></th>\n",
              "      <th>Age</th>\n",
              "      <th>Mark</th>\n",
              "    </tr>\n",
              "  </thead>\n",
              "  <tbody>\n",
              "    <tr>\n",
              "      <th>count</th>\n",
              "      <td>3.0</td>\n",
              "      <td>2.000000</td>\n",
              "    </tr>\n",
              "    <tr>\n",
              "      <th>mean</th>\n",
              "      <td>20.0</td>\n",
              "      <td>88.320000</td>\n",
              "    </tr>\n",
              "    <tr>\n",
              "      <th>std</th>\n",
              "      <td>1.0</td>\n",
              "      <td>4.553768</td>\n",
              "    </tr>\n",
              "    <tr>\n",
              "      <th>min</th>\n",
              "      <td>19.0</td>\n",
              "      <td>85.100000</td>\n",
              "    </tr>\n",
              "    <tr>\n",
              "      <th>25%</th>\n",
              "      <td>19.5</td>\n",
              "      <td>86.710000</td>\n",
              "    </tr>\n",
              "    <tr>\n",
              "      <th>50%</th>\n",
              "      <td>20.0</td>\n",
              "      <td>88.320000</td>\n",
              "    </tr>\n",
              "    <tr>\n",
              "      <th>75%</th>\n",
              "      <td>20.5</td>\n",
              "      <td>89.930000</td>\n",
              "    </tr>\n",
              "    <tr>\n",
              "      <th>max</th>\n",
              "      <td>21.0</td>\n",
              "      <td>91.540000</td>\n",
              "    </tr>\n",
              "  </tbody>\n",
              "</table>\n",
              "</div>"
            ],
            "text/plain": [
              "        Age       Mark\n",
              "count   3.0   2.000000\n",
              "mean   20.0  88.320000\n",
              "std     1.0   4.553768\n",
              "min    19.0  85.100000\n",
              "25%    19.5  86.710000\n",
              "50%    20.0  88.320000\n",
              "75%    20.5  89.930000\n",
              "max    21.0  91.540000"
            ]
          },
          "metadata": {},
          "execution_count": 13
        }
      ]
    },
    {
      "cell_type": "code",
      "metadata": {
        "colab": {
          "base_uri": "https://localhost:8080/",
          "height": 235
        },
        "id": "jpekKb_o446s",
        "outputId": "1c27a2be-507b-446a-8239-a357b6de8385"
      },
      "source": [
        "print(df.mean())\n",
        "print(\"\\nReplace NaN with means:\")\n",
        "df1 = df.fillna(df.mean())\n",
        "df1"
      ],
      "execution_count": null,
      "outputs": [
        {
          "output_type": "stream",
          "text": [
            "Age     20.00\n",
            "Mark    88.32\n",
            "dtype: float64\n",
            "\n",
            "Replace NaN with means:\n"
          ],
          "name": "stdout"
        },
        {
          "output_type": "execute_result",
          "data": {
            "text/html": [
              "<div>\n",
              "<style scoped>\n",
              "    .dataframe tbody tr th:only-of-type {\n",
              "        vertical-align: middle;\n",
              "    }\n",
              "\n",
              "    .dataframe tbody tr th {\n",
              "        vertical-align: top;\n",
              "    }\n",
              "\n",
              "    .dataframe thead th {\n",
              "        text-align: right;\n",
              "    }\n",
              "</style>\n",
              "<table border=\"1\" class=\"dataframe\">\n",
              "  <thead>\n",
              "    <tr style=\"text-align: right;\">\n",
              "      <th></th>\n",
              "      <th>Name</th>\n",
              "      <th>Age</th>\n",
              "      <th>Mark</th>\n",
              "    </tr>\n",
              "  </thead>\n",
              "  <tbody>\n",
              "    <tr>\n",
              "      <th>0</th>\n",
              "      <td>Joe</td>\n",
              "      <td>20</td>\n",
              "      <td>85.10</td>\n",
              "    </tr>\n",
              "    <tr>\n",
              "      <th>1</th>\n",
              "      <td>Sam</td>\n",
              "      <td>21</td>\n",
              "      <td>88.32</td>\n",
              "    </tr>\n",
              "    <tr>\n",
              "      <th>2</th>\n",
              "      <td>Harry</td>\n",
              "      <td>19</td>\n",
              "      <td>91.54</td>\n",
              "    </tr>\n",
              "  </tbody>\n",
              "</table>\n",
              "</div>"
            ],
            "text/plain": [
              "    Name  Age   Mark\n",
              "0    Joe   20  85.10\n",
              "1    Sam   21  88.32\n",
              "2  Harry   19  91.54"
            ]
          },
          "metadata": {},
          "execution_count": 14
        }
      ]
    },
    {
      "cell_type": "code",
      "metadata": {
        "colab": {
          "base_uri": "https://localhost:8080/"
        },
        "id": "G4nmjrAPghsw",
        "outputId": "8081f1b4-599c-477d-e25a-2125c8e38513"
      },
      "source": [
        "df1 = df.fillna(df.mean())\n",
        "print('df1 is')\n",
        "print(df1)\n",
        "\n",
        "print('\\ndf is')\n",
        "print(df)"
      ],
      "execution_count": null,
      "outputs": [
        {
          "output_type": "stream",
          "text": [
            "df1 is\n",
            "    Name  Age   Mark\n",
            "0    Joe   20  85.10\n",
            "1    Sam   21  88.32\n",
            "2  Harry   19  91.54\n",
            "\n",
            "df is\n",
            "    Name  Age   Mark\n",
            "0    Joe   20  85.10\n",
            "1    Sam   21    NaN\n",
            "2  Harry   19  91.54\n"
          ],
          "name": "stdout"
        }
      ]
    },
    {
      "cell_type": "code",
      "metadata": {
        "colab": {
          "base_uri": "https://localhost:8080/"
        },
        "id": "BQhO4RFbyKQX",
        "outputId": "eea136ce-edfe-49ba-841e-1cc30722823e"
      },
      "source": [
        "print('\\nBefore: df is')\n",
        "print(df)\n",
        "df.fillna(df.mean(), inplace=True)\n",
        "print('\\nAfter: df is')\n",
        "print(df)"
      ],
      "execution_count": null,
      "outputs": [
        {
          "output_type": "stream",
          "text": [
            "\n",
            "Before: df is\n",
            "    Name  Age   Mark\n",
            "0    Joe   20  85.10\n",
            "1    Sam   21    NaN\n",
            "2  Harry   19  91.54\n",
            "\n",
            "After: df is\n",
            "    Name  Age   Mark\n",
            "0    Joe   20  85.10\n",
            "1    Sam   21  88.32\n",
            "2  Harry   19  91.54\n"
          ],
          "name": "stdout"
        }
      ]
    },
    {
      "cell_type": "markdown",
      "metadata": {
        "id": "cPHj62YjjQiG"
      },
      "source": [
        "###Ex3"
      ]
    },
    {
      "cell_type": "code",
      "metadata": {
        "colab": {
          "base_uri": "https://localhost:8080/",
          "height": 143
        },
        "id": "IocfmWLmx4nk",
        "outputId": "dcd4dc66-e993-4fc0-8254-85b52d2c8616"
      },
      "source": [
        "student_dict = {'Name': ['Joe', 'Sam', 'Harry'], 'Age': [20, 21, 19], 'Mark': [85.10, np.nan, 91.54]}\n",
        "\n",
        "df = pd.DataFrame(student_dict)\n",
        "df"
      ],
      "execution_count": null,
      "outputs": [
        {
          "output_type": "execute_result",
          "data": {
            "text/html": [
              "<div>\n",
              "<style scoped>\n",
              "    .dataframe tbody tr th:only-of-type {\n",
              "        vertical-align: middle;\n",
              "    }\n",
              "\n",
              "    .dataframe tbody tr th {\n",
              "        vertical-align: top;\n",
              "    }\n",
              "\n",
              "    .dataframe thead th {\n",
              "        text-align: right;\n",
              "    }\n",
              "</style>\n",
              "<table border=\"1\" class=\"dataframe\">\n",
              "  <thead>\n",
              "    <tr style=\"text-align: right;\">\n",
              "      <th></th>\n",
              "      <th>Name</th>\n",
              "      <th>Age</th>\n",
              "      <th>Mark</th>\n",
              "    </tr>\n",
              "  </thead>\n",
              "  <tbody>\n",
              "    <tr>\n",
              "      <th>0</th>\n",
              "      <td>Joe</td>\n",
              "      <td>20</td>\n",
              "      <td>85.10</td>\n",
              "    </tr>\n",
              "    <tr>\n",
              "      <th>1</th>\n",
              "      <td>Sam</td>\n",
              "      <td>21</td>\n",
              "      <td>NaN</td>\n",
              "    </tr>\n",
              "    <tr>\n",
              "      <th>2</th>\n",
              "      <td>Harry</td>\n",
              "      <td>19</td>\n",
              "      <td>91.54</td>\n",
              "    </tr>\n",
              "  </tbody>\n",
              "</table>\n",
              "</div>"
            ],
            "text/plain": [
              "    Name  Age   Mark\n",
              "0    Joe   20  85.10\n",
              "1    Sam   21    NaN\n",
              "2  Harry   19  91.54"
            ]
          },
          "metadata": {},
          "execution_count": 17
        }
      ]
    },
    {
      "cell_type": "code",
      "metadata": {
        "colab": {
          "base_uri": "https://localhost:8080/",
          "height": 143
        },
        "id": "JoPXXJpmUU9p",
        "outputId": "c5531fd4-4e4e-42c3-9ad8-7e4e69ffc825"
      },
      "source": [
        "change_dict = {'Name': 'John Doe', 'Mark': -100, 'Total Mark': 0}\n",
        "df1 = df.fillna(value=change_dict)\n",
        "df1"
      ],
      "execution_count": null,
      "outputs": [
        {
          "output_type": "execute_result",
          "data": {
            "text/html": [
              "<div>\n",
              "<style scoped>\n",
              "    .dataframe tbody tr th:only-of-type {\n",
              "        vertical-align: middle;\n",
              "    }\n",
              "\n",
              "    .dataframe tbody tr th {\n",
              "        vertical-align: top;\n",
              "    }\n",
              "\n",
              "    .dataframe thead th {\n",
              "        text-align: right;\n",
              "    }\n",
              "</style>\n",
              "<table border=\"1\" class=\"dataframe\">\n",
              "  <thead>\n",
              "    <tr style=\"text-align: right;\">\n",
              "      <th></th>\n",
              "      <th>Name</th>\n",
              "      <th>Age</th>\n",
              "      <th>Mark</th>\n",
              "    </tr>\n",
              "  </thead>\n",
              "  <tbody>\n",
              "    <tr>\n",
              "      <th>0</th>\n",
              "      <td>Joe</td>\n",
              "      <td>20</td>\n",
              "      <td>85.10</td>\n",
              "    </tr>\n",
              "    <tr>\n",
              "      <th>1</th>\n",
              "      <td>Sam</td>\n",
              "      <td>21</td>\n",
              "      <td>-100.00</td>\n",
              "    </tr>\n",
              "    <tr>\n",
              "      <th>2</th>\n",
              "      <td>Harry</td>\n",
              "      <td>19</td>\n",
              "      <td>91.54</td>\n",
              "    </tr>\n",
              "  </tbody>\n",
              "</table>\n",
              "</div>"
            ],
            "text/plain": [
              "    Name  Age    Mark\n",
              "0    Joe   20   85.10\n",
              "1    Sam   21 -100.00\n",
              "2  Harry   19   91.54"
            ]
          },
          "metadata": {},
          "execution_count": 18
        }
      ]
    },
    {
      "cell_type": "markdown",
      "metadata": {
        "id": "A53HqHdajUhM"
      },
      "source": [
        "###Ex4"
      ]
    },
    {
      "cell_type": "code",
      "metadata": {
        "colab": {
          "base_uri": "https://localhost:8080/",
          "height": 175
        },
        "id": "y_bfJN9xSOOi",
        "outputId": "f03fd1ec-b01a-44f3-c556-7faa22136f24"
      },
      "source": [
        "#Using reindexing, we have created a DataFrame with missing values. \n",
        "df1 = df.reindex([0, 1, 2, 3])\n",
        "df1"
      ],
      "execution_count": null,
      "outputs": [
        {
          "output_type": "execute_result",
          "data": {
            "text/html": [
              "<div>\n",
              "<style scoped>\n",
              "    .dataframe tbody tr th:only-of-type {\n",
              "        vertical-align: middle;\n",
              "    }\n",
              "\n",
              "    .dataframe tbody tr th {\n",
              "        vertical-align: top;\n",
              "    }\n",
              "\n",
              "    .dataframe thead th {\n",
              "        text-align: right;\n",
              "    }\n",
              "</style>\n",
              "<table border=\"1\" class=\"dataframe\">\n",
              "  <thead>\n",
              "    <tr style=\"text-align: right;\">\n",
              "      <th></th>\n",
              "      <th>Name</th>\n",
              "      <th>Age</th>\n",
              "      <th>Mark</th>\n",
              "    </tr>\n",
              "  </thead>\n",
              "  <tbody>\n",
              "    <tr>\n",
              "      <th>0</th>\n",
              "      <td>Joe</td>\n",
              "      <td>20.0</td>\n",
              "      <td>85.10</td>\n",
              "    </tr>\n",
              "    <tr>\n",
              "      <th>1</th>\n",
              "      <td>Sam</td>\n",
              "      <td>21.0</td>\n",
              "      <td>NaN</td>\n",
              "    </tr>\n",
              "    <tr>\n",
              "      <th>2</th>\n",
              "      <td>Harry</td>\n",
              "      <td>19.0</td>\n",
              "      <td>91.54</td>\n",
              "    </tr>\n",
              "    <tr>\n",
              "      <th>3</th>\n",
              "      <td>NaN</td>\n",
              "      <td>NaN</td>\n",
              "      <td>NaN</td>\n",
              "    </tr>\n",
              "  </tbody>\n",
              "</table>\n",
              "</div>"
            ],
            "text/plain": [
              "    Name   Age   Mark\n",
              "0    Joe  20.0  85.10\n",
              "1    Sam  21.0    NaN\n",
              "2  Harry  19.0  91.54\n",
              "3    NaN   NaN    NaN"
            ]
          },
          "metadata": {},
          "execution_count": 19
        }
      ]
    },
    {
      "cell_type": "code",
      "metadata": {
        "colab": {
          "base_uri": "https://localhost:8080/",
          "height": 175
        },
        "id": "TcYCfT_zdixg",
        "outputId": "76778939-a61e-495d-8479-e5e039d4c907"
      },
      "source": [
        "change_dict = {'Name': 'John Doe', 'Mark': -100, 'Total Mark': 0}\n",
        "\n",
        "df1 = df1.fillna(value=change_dict)\n",
        "df1"
      ],
      "execution_count": null,
      "outputs": [
        {
          "output_type": "execute_result",
          "data": {
            "text/html": [
              "<div>\n",
              "<style scoped>\n",
              "    .dataframe tbody tr th:only-of-type {\n",
              "        vertical-align: middle;\n",
              "    }\n",
              "\n",
              "    .dataframe tbody tr th {\n",
              "        vertical-align: top;\n",
              "    }\n",
              "\n",
              "    .dataframe thead th {\n",
              "        text-align: right;\n",
              "    }\n",
              "</style>\n",
              "<table border=\"1\" class=\"dataframe\">\n",
              "  <thead>\n",
              "    <tr style=\"text-align: right;\">\n",
              "      <th></th>\n",
              "      <th>Name</th>\n",
              "      <th>Age</th>\n",
              "      <th>Mark</th>\n",
              "    </tr>\n",
              "  </thead>\n",
              "  <tbody>\n",
              "    <tr>\n",
              "      <th>0</th>\n",
              "      <td>Joe</td>\n",
              "      <td>20.0</td>\n",
              "      <td>85.10</td>\n",
              "    </tr>\n",
              "    <tr>\n",
              "      <th>1</th>\n",
              "      <td>Sam</td>\n",
              "      <td>21.0</td>\n",
              "      <td>-100.00</td>\n",
              "    </tr>\n",
              "    <tr>\n",
              "      <th>2</th>\n",
              "      <td>Harry</td>\n",
              "      <td>19.0</td>\n",
              "      <td>91.54</td>\n",
              "    </tr>\n",
              "    <tr>\n",
              "      <th>3</th>\n",
              "      <td>John Doe</td>\n",
              "      <td>NaN</td>\n",
              "      <td>-100.00</td>\n",
              "    </tr>\n",
              "  </tbody>\n",
              "</table>\n",
              "</div>"
            ],
            "text/plain": [
              "       Name   Age    Mark\n",
              "0       Joe  20.0   85.10\n",
              "1       Sam  21.0 -100.00\n",
              "2     Harry  19.0   91.54\n",
              "3  John Doe   NaN -100.00"
            ]
          },
          "metadata": {},
          "execution_count": 20
        }
      ]
    },
    {
      "cell_type": "markdown",
      "metadata": {
        "id": "zMvIc4KqaAqh"
      },
      "source": [
        "##3.Replace Missing (or) Generic Values\n",
        "Replace a generic value with some specific value, using the **replace** method."
      ]
    },
    {
      "cell_type": "markdown",
      "metadata": {
        "id": "NC2L67UijX0r"
      },
      "source": [
        "###Ex1"
      ]
    },
    {
      "cell_type": "code",
      "metadata": {
        "id": "uPwiNz6g7t7m",
        "colab": {
          "base_uri": "https://localhost:8080/",
          "height": 233
        },
        "outputId": "503c3550-24c7-4291-b804-73b8db256395"
      },
      "source": [
        "temp_dict = {'one':[1,2,3,4,5,2000], 'two':[1000,np.nan,3,4,5,6]}\n",
        "df = pd.DataFrame(temp_dict)\n",
        "df"
      ],
      "execution_count": null,
      "outputs": [
        {
          "output_type": "execute_result",
          "data": {
            "text/html": [
              "<div>\n",
              "<style scoped>\n",
              "    .dataframe tbody tr th:only-of-type {\n",
              "        vertical-align: middle;\n",
              "    }\n",
              "\n",
              "    .dataframe tbody tr th {\n",
              "        vertical-align: top;\n",
              "    }\n",
              "\n",
              "    .dataframe thead th {\n",
              "        text-align: right;\n",
              "    }\n",
              "</style>\n",
              "<table border=\"1\" class=\"dataframe\">\n",
              "  <thead>\n",
              "    <tr style=\"text-align: right;\">\n",
              "      <th></th>\n",
              "      <th>one</th>\n",
              "      <th>two</th>\n",
              "    </tr>\n",
              "  </thead>\n",
              "  <tbody>\n",
              "    <tr>\n",
              "      <th>0</th>\n",
              "      <td>1</td>\n",
              "      <td>1000.0</td>\n",
              "    </tr>\n",
              "    <tr>\n",
              "      <th>1</th>\n",
              "      <td>2</td>\n",
              "      <td>NaN</td>\n",
              "    </tr>\n",
              "    <tr>\n",
              "      <th>2</th>\n",
              "      <td>3</td>\n",
              "      <td>3.0</td>\n",
              "    </tr>\n",
              "    <tr>\n",
              "      <th>3</th>\n",
              "      <td>4</td>\n",
              "      <td>4.0</td>\n",
              "    </tr>\n",
              "    <tr>\n",
              "      <th>4</th>\n",
              "      <td>5</td>\n",
              "      <td>5.0</td>\n",
              "    </tr>\n",
              "    <tr>\n",
              "      <th>5</th>\n",
              "      <td>2000</td>\n",
              "      <td>6.0</td>\n",
              "    </tr>\n",
              "  </tbody>\n",
              "</table>\n",
              "</div>"
            ],
            "text/plain": [
              "    one     two\n",
              "0     1  1000.0\n",
              "1     2     NaN\n",
              "2     3     3.0\n",
              "3     4     4.0\n",
              "4     5     5.0\n",
              "5  2000     6.0"
            ]
          },
          "metadata": {
            "tags": []
          },
          "execution_count": 21
        }
      ]
    },
    {
      "cell_type": "code",
      "metadata": {
        "colab": {
          "base_uri": "https://localhost:8080/",
          "height": 233
        },
        "id": "P-gTNbw-aw4H",
        "outputId": "c8afb909-ea25-4ad8-c256-f2774b7b9e11"
      },
      "source": [
        "df1 = df.replace({1000:-10})\n",
        "df1"
      ],
      "execution_count": null,
      "outputs": [
        {
          "output_type": "execute_result",
          "data": {
            "text/html": [
              "<div>\n",
              "<style scoped>\n",
              "    .dataframe tbody tr th:only-of-type {\n",
              "        vertical-align: middle;\n",
              "    }\n",
              "\n",
              "    .dataframe tbody tr th {\n",
              "        vertical-align: top;\n",
              "    }\n",
              "\n",
              "    .dataframe thead th {\n",
              "        text-align: right;\n",
              "    }\n",
              "</style>\n",
              "<table border=\"1\" class=\"dataframe\">\n",
              "  <thead>\n",
              "    <tr style=\"text-align: right;\">\n",
              "      <th></th>\n",
              "      <th>one</th>\n",
              "      <th>two</th>\n",
              "    </tr>\n",
              "  </thead>\n",
              "  <tbody>\n",
              "    <tr>\n",
              "      <th>0</th>\n",
              "      <td>1</td>\n",
              "      <td>-10.0</td>\n",
              "    </tr>\n",
              "    <tr>\n",
              "      <th>1</th>\n",
              "      <td>2</td>\n",
              "      <td>NaN</td>\n",
              "    </tr>\n",
              "    <tr>\n",
              "      <th>2</th>\n",
              "      <td>3</td>\n",
              "      <td>3.0</td>\n",
              "    </tr>\n",
              "    <tr>\n",
              "      <th>3</th>\n",
              "      <td>4</td>\n",
              "      <td>4.0</td>\n",
              "    </tr>\n",
              "    <tr>\n",
              "      <th>4</th>\n",
              "      <td>5</td>\n",
              "      <td>5.0</td>\n",
              "    </tr>\n",
              "    <tr>\n",
              "      <th>5</th>\n",
              "      <td>2000</td>\n",
              "      <td>6.0</td>\n",
              "    </tr>\n",
              "  </tbody>\n",
              "</table>\n",
              "</div>"
            ],
            "text/plain": [
              "    one   two\n",
              "0     1 -10.0\n",
              "1     2   NaN\n",
              "2     3   3.0\n",
              "3     4   4.0\n",
              "4     5   5.0\n",
              "5  2000   6.0"
            ]
          },
          "metadata": {
            "tags": []
          },
          "execution_count": 22
        }
      ]
    },
    {
      "cell_type": "code",
      "metadata": {
        "colab": {
          "base_uri": "https://localhost:8080/",
          "height": 233
        },
        "id": "0LXR4h2DaXCA",
        "outputId": "50badc0e-1e87-4f30-b8fe-7b604e1752be"
      },
      "source": [
        "df2 = df.replace({1000:-10, 2000:-20})\n",
        "df2"
      ],
      "execution_count": null,
      "outputs": [
        {
          "output_type": "execute_result",
          "data": {
            "text/html": [
              "<div>\n",
              "<style scoped>\n",
              "    .dataframe tbody tr th:only-of-type {\n",
              "        vertical-align: middle;\n",
              "    }\n",
              "\n",
              "    .dataframe tbody tr th {\n",
              "        vertical-align: top;\n",
              "    }\n",
              "\n",
              "    .dataframe thead th {\n",
              "        text-align: right;\n",
              "    }\n",
              "</style>\n",
              "<table border=\"1\" class=\"dataframe\">\n",
              "  <thead>\n",
              "    <tr style=\"text-align: right;\">\n",
              "      <th></th>\n",
              "      <th>one</th>\n",
              "      <th>two</th>\n",
              "    </tr>\n",
              "  </thead>\n",
              "  <tbody>\n",
              "    <tr>\n",
              "      <th>0</th>\n",
              "      <td>1</td>\n",
              "      <td>-10.0</td>\n",
              "    </tr>\n",
              "    <tr>\n",
              "      <th>1</th>\n",
              "      <td>2</td>\n",
              "      <td>NaN</td>\n",
              "    </tr>\n",
              "    <tr>\n",
              "      <th>2</th>\n",
              "      <td>3</td>\n",
              "      <td>3.0</td>\n",
              "    </tr>\n",
              "    <tr>\n",
              "      <th>3</th>\n",
              "      <td>4</td>\n",
              "      <td>4.0</td>\n",
              "    </tr>\n",
              "    <tr>\n",
              "      <th>4</th>\n",
              "      <td>5</td>\n",
              "      <td>5.0</td>\n",
              "    </tr>\n",
              "    <tr>\n",
              "      <th>5</th>\n",
              "      <td>-20</td>\n",
              "      <td>6.0</td>\n",
              "    </tr>\n",
              "  </tbody>\n",
              "</table>\n",
              "</div>"
            ],
            "text/plain": [
              "   one   two\n",
              "0    1 -10.0\n",
              "1    2   NaN\n",
              "2    3   3.0\n",
              "3    4   4.0\n",
              "4    5   5.0\n",
              "5  -20   6.0"
            ]
          },
          "metadata": {
            "tags": []
          },
          "execution_count": 23
        }
      ]
    },
    {
      "cell_type": "markdown",
      "metadata": {
        "id": "FVOEuo30jmCS"
      },
      "source": [
        "###Ex2"
      ]
    },
    {
      "cell_type": "code",
      "metadata": {
        "colab": {
          "base_uri": "https://localhost:8080/"
        },
        "id": "wlNdOZC1WlOp",
        "outputId": "a179132c-f4b8-4e3e-cb05-4bb5d75e2edc"
      },
      "source": [
        "df.one.mean()"
      ],
      "execution_count": null,
      "outputs": [
        {
          "output_type": "execute_result",
          "data": {
            "text/plain": [
              "335.8333333333333"
            ]
          },
          "metadata": {
            "tags": []
          },
          "execution_count": 24
        }
      ]
    },
    {
      "cell_type": "code",
      "metadata": {
        "colab": {
          "base_uri": "https://localhost:8080/",
          "height": 233
        },
        "id": "DAj4flYXV1aC",
        "outputId": "f31cdbd3-df1c-471d-8bd8-f410fc830720"
      },
      "source": [
        "df3 = df.replace({1000:df.one.mean()})\n",
        "df3"
      ],
      "execution_count": null,
      "outputs": [
        {
          "output_type": "execute_result",
          "data": {
            "text/html": [
              "<div>\n",
              "<style scoped>\n",
              "    .dataframe tbody tr th:only-of-type {\n",
              "        vertical-align: middle;\n",
              "    }\n",
              "\n",
              "    .dataframe tbody tr th {\n",
              "        vertical-align: top;\n",
              "    }\n",
              "\n",
              "    .dataframe thead th {\n",
              "        text-align: right;\n",
              "    }\n",
              "</style>\n",
              "<table border=\"1\" class=\"dataframe\">\n",
              "  <thead>\n",
              "    <tr style=\"text-align: right;\">\n",
              "      <th></th>\n",
              "      <th>one</th>\n",
              "      <th>two</th>\n",
              "    </tr>\n",
              "  </thead>\n",
              "  <tbody>\n",
              "    <tr>\n",
              "      <th>0</th>\n",
              "      <td>1</td>\n",
              "      <td>335.833333</td>\n",
              "    </tr>\n",
              "    <tr>\n",
              "      <th>1</th>\n",
              "      <td>2</td>\n",
              "      <td>NaN</td>\n",
              "    </tr>\n",
              "    <tr>\n",
              "      <th>2</th>\n",
              "      <td>3</td>\n",
              "      <td>3.000000</td>\n",
              "    </tr>\n",
              "    <tr>\n",
              "      <th>3</th>\n",
              "      <td>4</td>\n",
              "      <td>4.000000</td>\n",
              "    </tr>\n",
              "    <tr>\n",
              "      <th>4</th>\n",
              "      <td>5</td>\n",
              "      <td>5.000000</td>\n",
              "    </tr>\n",
              "    <tr>\n",
              "      <th>5</th>\n",
              "      <td>2000</td>\n",
              "      <td>6.000000</td>\n",
              "    </tr>\n",
              "  </tbody>\n",
              "</table>\n",
              "</div>"
            ],
            "text/plain": [
              "    one         two\n",
              "0     1  335.833333\n",
              "1     2         NaN\n",
              "2     3    3.000000\n",
              "3     4    4.000000\n",
              "4     5    5.000000\n",
              "5  2000    6.000000"
            ]
          },
          "metadata": {
            "tags": []
          },
          "execution_count": 25
        }
      ]
    },
    {
      "cell_type": "code",
      "metadata": {
        "colab": {
          "base_uri": "https://localhost:8080/"
        },
        "id": "0PQJZOoX0_UG",
        "outputId": "28386776-101d-4f64-8c40-cdfe56c0c029"
      },
      "source": [
        "df4 = df.replace({np.nan:df.one.mean()})\n",
        "df4"
      ],
      "execution_count": null,
      "outputs": [
        {
          "output_type": "execute_result",
          "data": {
            "text/html": [
              "<div>\n",
              "<style scoped>\n",
              "    .dataframe tbody tr th:only-of-type {\n",
              "        vertical-align: middle;\n",
              "    }\n",
              "\n",
              "    .dataframe tbody tr th {\n",
              "        vertical-align: top;\n",
              "    }\n",
              "\n",
              "    .dataframe thead th {\n",
              "        text-align: right;\n",
              "    }\n",
              "</style>\n",
              "<table border=\"1\" class=\"dataframe\">\n",
              "  <thead>\n",
              "    <tr style=\"text-align: right;\">\n",
              "      <th></th>\n",
              "      <th>one</th>\n",
              "      <th>two</th>\n",
              "    </tr>\n",
              "  </thead>\n",
              "  <tbody>\n",
              "    <tr>\n",
              "      <th>0</th>\n",
              "      <td>1</td>\n",
              "      <td>1000.000000</td>\n",
              "    </tr>\n",
              "    <tr>\n",
              "      <th>1</th>\n",
              "      <td>2</td>\n",
              "      <td>335.833333</td>\n",
              "    </tr>\n",
              "    <tr>\n",
              "      <th>2</th>\n",
              "      <td>3</td>\n",
              "      <td>3.000000</td>\n",
              "    </tr>\n",
              "    <tr>\n",
              "      <th>3</th>\n",
              "      <td>4</td>\n",
              "      <td>4.000000</td>\n",
              "    </tr>\n",
              "    <tr>\n",
              "      <th>4</th>\n",
              "      <td>5</td>\n",
              "      <td>5.000000</td>\n",
              "    </tr>\n",
              "    <tr>\n",
              "      <th>5</th>\n",
              "      <td>2000</td>\n",
              "      <td>6.000000</td>\n",
              "    </tr>\n",
              "  </tbody>\n",
              "</table>\n",
              "</div>"
            ],
            "text/plain": [
              "    one          two\n",
              "0     1  1000.000000\n",
              "1     2   335.833333\n",
              "2     3     3.000000\n",
              "3     4     4.000000\n",
              "4     5     5.000000\n",
              "5  2000     6.000000"
            ]
          },
          "metadata": {
            "tags": []
          },
          "execution_count": 26
        }
      ]
    },
    {
      "cell_type": "markdown",
      "metadata": {
        "id": "1Ata9IgFT4Kz"
      },
      "source": [
        "##4.Drop Missing Values\n",
        "\n",
        "If you want to simply exclude the missing values, then use the **dropna** function along with the **axis** argument. By default, **axis=0**, i.e., along row, which means that if any value within a row is NA then the whole row is excluded.\n",
        "\n",
        "**DataFrame.dropna(axis=0, how='any', thresh=None, subset=None, inplace=False)**\n",
        "\n",
        "Remove missing values.\n",
        "\n",
        "axis = 0, or ‘index’ : Drop rows which contain missing values.\n",
        "\n",
        "axis = 1, or ‘columns’ : Drop columns which contain missing value\n",
        "\n",
        "\n",
        "**Ref:** [Pandas dropna doc](https://pandas.pydata.org/pandas-docs/stable/reference/api/pandas.DataFrame.dropna.html)\n",
        "\n",
        "\n"
      ]
    },
    {
      "cell_type": "code",
      "metadata": {
        "colab": {
          "base_uri": "https://localhost:8080/"
        },
        "id": "WeKXBnN2UVZg",
        "outputId": "002e636a-40d1-4609-e39a-dd45ae90a6f7"
      },
      "source": [
        "import pandas as pd\n",
        "import numpy as np\n",
        "\n",
        "student_dict = {'Name': ['Joe', 'Sam', 'Harry'], 'Age': [20, 21, 19], 'Mark': [85.10, np.nan, 91.54]}\n",
        "\n",
        "# Create DataFrame from dict\n",
        "df = pd.DataFrame(student_dict)\n",
        "df"
      ],
      "execution_count": null,
      "outputs": [
        {
          "output_type": "execute_result",
          "data": {
            "text/html": [
              "<div>\n",
              "<style scoped>\n",
              "    .dataframe tbody tr th:only-of-type {\n",
              "        vertical-align: middle;\n",
              "    }\n",
              "\n",
              "    .dataframe tbody tr th {\n",
              "        vertical-align: top;\n",
              "    }\n",
              "\n",
              "    .dataframe thead th {\n",
              "        text-align: right;\n",
              "    }\n",
              "</style>\n",
              "<table border=\"1\" class=\"dataframe\">\n",
              "  <thead>\n",
              "    <tr style=\"text-align: right;\">\n",
              "      <th></th>\n",
              "      <th>Name</th>\n",
              "      <th>Age</th>\n",
              "      <th>Mark</th>\n",
              "    </tr>\n",
              "  </thead>\n",
              "  <tbody>\n",
              "    <tr>\n",
              "      <th>0</th>\n",
              "      <td>Joe</td>\n",
              "      <td>20</td>\n",
              "      <td>85.10</td>\n",
              "    </tr>\n",
              "    <tr>\n",
              "      <th>1</th>\n",
              "      <td>Sam</td>\n",
              "      <td>21</td>\n",
              "      <td>NaN</td>\n",
              "    </tr>\n",
              "    <tr>\n",
              "      <th>2</th>\n",
              "      <td>Harry</td>\n",
              "      <td>19</td>\n",
              "      <td>91.54</td>\n",
              "    </tr>\n",
              "  </tbody>\n",
              "</table>\n",
              "</div>"
            ],
            "text/plain": [
              "    Name  Age   Mark\n",
              "0    Joe   20  85.10\n",
              "1    Sam   21    NaN\n",
              "2  Harry   19  91.54"
            ]
          },
          "metadata": {
            "tags": []
          },
          "execution_count": 27
        }
      ]
    },
    {
      "cell_type": "markdown",
      "metadata": {
        "id": "zSRKaJ8yYxgK"
      },
      "source": [
        "**DataFrame.dropna(axis=0, how='any', thresh=None, subset=None, inplace=False)**\n",
        "\n",
        "Remove missing values.\n",
        "\n",
        "axis = 0, or ‘index’ : Drop rows which contain missing values.\n",
        "\n",
        "axis = 1, or ‘columns’ : Drop columns which contain missing value"
      ]
    },
    {
      "cell_type": "markdown",
      "metadata": {
        "id": "RaDTH3mkkMBz"
      },
      "source": [
        "###Ex1\n",
        "\n"
      ]
    },
    {
      "cell_type": "code",
      "metadata": {
        "colab": {
          "base_uri": "https://localhost:8080/"
        },
        "id": "nAL3ZAiZURrY",
        "outputId": "7f68bcd4-0ae7-4821-f91d-fdac099b5528"
      },
      "source": [
        "#0, or ‘index’ : Drop rows which contain missing values.\n",
        "#1, or ‘columns’ : Drop columns which contain missing values.\n",
        "df_drop =  df.dropna() \n",
        "df_drop"
      ],
      "execution_count": null,
      "outputs": [
        {
          "output_type": "execute_result",
          "data": {
            "text/html": [
              "<div>\n",
              "<style scoped>\n",
              "    .dataframe tbody tr th:only-of-type {\n",
              "        vertical-align: middle;\n",
              "    }\n",
              "\n",
              "    .dataframe tbody tr th {\n",
              "        vertical-align: top;\n",
              "    }\n",
              "\n",
              "    .dataframe thead th {\n",
              "        text-align: right;\n",
              "    }\n",
              "</style>\n",
              "<table border=\"1\" class=\"dataframe\">\n",
              "  <thead>\n",
              "    <tr style=\"text-align: right;\">\n",
              "      <th></th>\n",
              "      <th>Name</th>\n",
              "      <th>Age</th>\n",
              "      <th>Mark</th>\n",
              "    </tr>\n",
              "  </thead>\n",
              "  <tbody>\n",
              "    <tr>\n",
              "      <th>0</th>\n",
              "      <td>Joe</td>\n",
              "      <td>20</td>\n",
              "      <td>85.10</td>\n",
              "    </tr>\n",
              "    <tr>\n",
              "      <th>2</th>\n",
              "      <td>Harry</td>\n",
              "      <td>19</td>\n",
              "      <td>91.54</td>\n",
              "    </tr>\n",
              "  </tbody>\n",
              "</table>\n",
              "</div>"
            ],
            "text/plain": [
              "    Name  Age   Mark\n",
              "0    Joe   20  85.10\n",
              "2  Harry   19  91.54"
            ]
          },
          "metadata": {
            "tags": []
          },
          "execution_count": 28
        }
      ]
    },
    {
      "cell_type": "markdown",
      "metadata": {
        "id": "IfZ6SZKHko34"
      },
      "source": [
        "###Ex2"
      ]
    },
    {
      "cell_type": "code",
      "metadata": {
        "colab": {
          "base_uri": "https://localhost:8080/"
        },
        "id": "5KcsGC6kkrZk",
        "outputId": "89f64621-ae7a-4eab-f69a-0c348e788b9b"
      },
      "source": [
        "df_drop =  df.dropna(axis='columns')  \n",
        "df_drop"
      ],
      "execution_count": null,
      "outputs": [
        {
          "output_type": "execute_result",
          "data": {
            "text/html": [
              "<div>\n",
              "<style scoped>\n",
              "    .dataframe tbody tr th:only-of-type {\n",
              "        vertical-align: middle;\n",
              "    }\n",
              "\n",
              "    .dataframe tbody tr th {\n",
              "        vertical-align: top;\n",
              "    }\n",
              "\n",
              "    .dataframe thead th {\n",
              "        text-align: right;\n",
              "    }\n",
              "</style>\n",
              "<table border=\"1\" class=\"dataframe\">\n",
              "  <thead>\n",
              "    <tr style=\"text-align: right;\">\n",
              "      <th></th>\n",
              "      <th>Name</th>\n",
              "      <th>Age</th>\n",
              "    </tr>\n",
              "  </thead>\n",
              "  <tbody>\n",
              "    <tr>\n",
              "      <th>0</th>\n",
              "      <td>Joe</td>\n",
              "      <td>20</td>\n",
              "    </tr>\n",
              "    <tr>\n",
              "      <th>1</th>\n",
              "      <td>Sam</td>\n",
              "      <td>21</td>\n",
              "    </tr>\n",
              "    <tr>\n",
              "      <th>2</th>\n",
              "      <td>Harry</td>\n",
              "      <td>19</td>\n",
              "    </tr>\n",
              "  </tbody>\n",
              "</table>\n",
              "</div>"
            ],
            "text/plain": [
              "    Name  Age\n",
              "0    Joe   20\n",
              "1    Sam   21\n",
              "2  Harry   19"
            ]
          },
          "metadata": {
            "tags": []
          },
          "execution_count": 29
        }
      ]
    },
    {
      "cell_type": "markdown",
      "metadata": {
        "id": "2Uj4g_VJ1RZc"
      },
      "source": [
        "#1.2 Duplicate Data"
      ]
    },
    {
      "cell_type": "markdown",
      "metadata": {
        "id": "8cBULZ0dddKL"
      },
      "source": [
        "##Check duplicates"
      ]
    },
    {
      "cell_type": "code",
      "metadata": {
        "colab": {
          "base_uri": "https://localhost:8080/"
        },
        "id": "Bdp0Z67McdWU",
        "outputId": "1ec64502-f412-4e5e-c7bd-f2506633c567"
      },
      "source": [
        "import pandas as pd\n",
        "\n",
        "student_dict = {'Name': ['Joe', 'Nat', 'Harry', 'Joe', 'Nat'], \n",
        "                        'Age': [20, 21, 19, 20, 21],\n",
        "                        'Mark': [70, 77.80, 91.54, 85.10, 77.80]}\n",
        "\n",
        "student_df = pd.DataFrame(student_dict)\n",
        "student_df"
      ],
      "execution_count": null,
      "outputs": [
        {
          "output_type": "execute_result",
          "data": {
            "text/html": [
              "<div>\n",
              "<style scoped>\n",
              "    .dataframe tbody tr th:only-of-type {\n",
              "        vertical-align: middle;\n",
              "    }\n",
              "\n",
              "    .dataframe tbody tr th {\n",
              "        vertical-align: top;\n",
              "    }\n",
              "\n",
              "    .dataframe thead th {\n",
              "        text-align: right;\n",
              "    }\n",
              "</style>\n",
              "<table border=\"1\" class=\"dataframe\">\n",
              "  <thead>\n",
              "    <tr style=\"text-align: right;\">\n",
              "      <th></th>\n",
              "      <th>Name</th>\n",
              "      <th>Age</th>\n",
              "      <th>Mark</th>\n",
              "    </tr>\n",
              "  </thead>\n",
              "  <tbody>\n",
              "    <tr>\n",
              "      <th>0</th>\n",
              "      <td>Joe</td>\n",
              "      <td>20</td>\n",
              "      <td>70.00</td>\n",
              "    </tr>\n",
              "    <tr>\n",
              "      <th>1</th>\n",
              "      <td>Nat</td>\n",
              "      <td>21</td>\n",
              "      <td>77.80</td>\n",
              "    </tr>\n",
              "    <tr>\n",
              "      <th>2</th>\n",
              "      <td>Harry</td>\n",
              "      <td>19</td>\n",
              "      <td>91.54</td>\n",
              "    </tr>\n",
              "    <tr>\n",
              "      <th>3</th>\n",
              "      <td>Joe</td>\n",
              "      <td>20</td>\n",
              "      <td>85.10</td>\n",
              "    </tr>\n",
              "    <tr>\n",
              "      <th>4</th>\n",
              "      <td>Nat</td>\n",
              "      <td>21</td>\n",
              "      <td>77.80</td>\n",
              "    </tr>\n",
              "  </tbody>\n",
              "</table>\n",
              "</div>"
            ],
            "text/plain": [
              "    Name  Age   Mark\n",
              "0    Joe   20  70.00\n",
              "1    Nat   21  77.80\n",
              "2  Harry   19  91.54\n",
              "3    Joe   20  85.10\n",
              "4    Nat   21  77.80"
            ]
          },
          "metadata": {
            "tags": []
          },
          "execution_count": 30
        }
      ]
    },
    {
      "cell_type": "code",
      "metadata": {
        "colab": {
          "base_uri": "https://localhost:8080/"
        },
        "id": "oF-C3eWadIWb",
        "outputId": "bb6256eb-7590-4dc8-a299-4ce55ffe7671"
      },
      "source": [
        "print('\\nDuplicates i')\n",
        "student_df.duplicated('Name') # find duplicates in column Name"
      ],
      "execution_count": null,
      "outputs": [
        {
          "output_type": "stream",
          "text": [
            "\n",
            "Duplicates i\n"
          ],
          "name": "stdout"
        },
        {
          "output_type": "execute_result",
          "data": {
            "text/plain": [
              "0    False\n",
              "1    False\n",
              "2    False\n",
              "3     True\n",
              "4     True\n",
              "dtype: bool"
            ]
          },
          "metadata": {
            "tags": []
          },
          "execution_count": 31
        }
      ]
    },
    {
      "cell_type": "markdown",
      "metadata": {
        "id": "v9VAl6jyn7rS"
      },
      "source": [
        "##Ex1 Drop duplicates but keep first\n",
        "When we have the DataFrame with many duplicate rows that we want to remove we use DataFrame.drop_duplicates().\n",
        "\n",
        "**The rows that contain the same values in all the columns then are identified as duplicates. **\n",
        "\n",
        "If the row is duplicated then by default DataFrame.drop_duplicates() keeps the first occurrence of that row and drops all other duplicates of it."
      ]
    },
    {
      "cell_type": "code",
      "metadata": {
        "colab": {
          "base_uri": "https://localhost:8080/"
        },
        "id": "0HFEKQ-nnrqP",
        "outputId": "f2cbcd8b-4560-4950-f90a-020ab246b3a2"
      },
      "source": [
        "import pandas as pd\n",
        "\n",
        "student_dict = {'Name': ['Joe', 'Nat', 'Harry', 'Joe', 'Nat'], \n",
        "                        'Age': [20, 21, 19, 20, 21],\n",
        "                        'Mark': [70, 77.80, 91.54, 85.10, 77.80]}\n",
        "                \n",
        "# Create DataFrame from dict\n",
        "print('Before')\n",
        "student_df = pd.DataFrame(student_dict)\n",
        "print(student_df)\n",
        "\n",
        "print('\\nAfter')\n",
        "# drop duplicate rows\n",
        "student_df = student_df.drop_duplicates()\n",
        "\n",
        "print(student_df)\n"
      ],
      "execution_count": null,
      "outputs": [
        {
          "output_type": "stream",
          "text": [
            "Before\n",
            "    Name  Age   Mark\n",
            "0    Joe   20  70.00\n",
            "1    Nat   21  77.80\n",
            "2  Harry   19  91.54\n",
            "3    Joe   20  85.10\n",
            "4    Nat   21  77.80\n",
            "\n",
            "After\n",
            "    Name  Age   Mark\n",
            "0    Joe   20  70.00\n",
            "1    Nat   21  77.80\n",
            "2  Harry   19  91.54\n",
            "3    Joe   20  85.10\n"
          ],
          "name": "stdout"
        }
      ]
    },
    {
      "cell_type": "markdown",
      "metadata": {
        "id": "F2LezILMoE9F"
      },
      "source": [
        "##Ex2 Drop duplicates from defined columns\n",
        "By default, DataFrame.drop_duplicate() removes rows with the same values in all the columns. However, we can modify this behavior using a subset parameter.\n",
        "\n",
        "For example, subset=[col1, col2] will remove the duplicate rows with the same values in specified columns only, i.e., col1 and col2."
      ]
    },
    {
      "cell_type": "code",
      "metadata": {
        "colab": {
          "base_uri": "https://localhost:8080/"
        },
        "id": "gWdNiitAnrqb",
        "outputId": "eedc8222-a848-432d-a4fa-023bea25f6e5"
      },
      "source": [
        "import pandas as pd\n",
        "\n",
        "student_dict = {'Name': ['Joe', 'Nat', 'Harry', 'Joe', 'Nat'], 'Age': [20, 21, 19, 20, 21], 'Mark': [70, 77.80, 91.54, 85.10, 77.80]}\n",
        "\n",
        "# Create DataFrame from dict\n",
        "print('Before')\n",
        "student_df = pd.DataFrame(student_dict)\n",
        "print(student_df)\n",
        "\n",
        "print('\\nAfter')\n",
        "# drop duplicate rows\n",
        "student_df = student_df.drop_duplicates(subset=['Age'])\n",
        "\n",
        "print(student_df)"
      ],
      "execution_count": null,
      "outputs": [
        {
          "output_type": "stream",
          "text": [
            "Before\n",
            "    Name  Age   Mark\n",
            "0    Joe   20  70.00\n",
            "1    Nat   21  77.80\n",
            "2  Harry   19  91.54\n",
            "3    Joe   20  85.10\n",
            "4    Nat   21  77.80\n",
            "\n",
            "After\n",
            "    Name  Age   Mark\n",
            "0    Joe   20  70.00\n",
            "1    Nat   21  77.80\n",
            "2  Harry   19  91.54\n"
          ],
          "name": "stdout"
        }
      ]
    },
    {
      "cell_type": "markdown",
      "metadata": {
        "id": "IPgWORpboSq6"
      },
      "source": [
        "##Ex3 Drop duplicates but keep last\n",
        "To keep only one occurrence of the duplicate row, we can use the keep parameter of a DataFrame.drop_duplicate(), which takes the following inputs:\n",
        "\n",
        "*   first – Drop duplicates except for the first occurrence of the duplicate row. This is the default behavior.\n",
        "*   last – Drop duplicates except for the last occurrence of the duplicate row.\n",
        "*   False – Drop all the rows which are duplicate.\n"
      ]
    },
    {
      "cell_type": "code",
      "metadata": {
        "colab": {
          "base_uri": "https://localhost:8080/"
        },
        "id": "sp_MZJcQnrqb",
        "outputId": "62b14cba-f7c0-40a9-9ce6-30d64bebc31b"
      },
      "source": [
        "import pandas as pd\n",
        "\n",
        "student_dict = {'Name': ['Joe', 'Nat', 'Harry', 'Joe', 'Nat'], 'Age': [20, 21, 19, 20, 21], 'Mark': [70, 77.80, 91.54, 85.10, 77.80]}\n",
        "\n",
        "print('Before')\n",
        "# Create DataFrame from dict\n",
        "student_df = pd.DataFrame(student_dict)\n",
        "print(student_df)\n",
        "\n",
        "print('\\nAfter')\n",
        "# drop duplicate rows\n",
        "student_df = student_df.drop_duplicates(keep='last')\n",
        "\n",
        "print(student_df)"
      ],
      "execution_count": null,
      "outputs": [
        {
          "output_type": "stream",
          "text": [
            "Before\n",
            "    Name  Age   Mark\n",
            "0    Joe   20  70.00\n",
            "1    Nat   21  77.80\n",
            "2  Harry   19  91.54\n",
            "3    Joe   20  85.10\n",
            "4    Nat   21  77.80\n",
            "\n",
            "After\n",
            "    Name  Age   Mark\n",
            "0    Joe   20  70.00\n",
            "2  Harry   19  91.54\n",
            "3    Joe   20  85.10\n",
            "4    Nat   21  77.80\n"
          ],
          "name": "stdout"
        }
      ]
    },
    {
      "cell_type": "markdown",
      "metadata": {
        "id": "MDoi4h8Kofj9"
      },
      "source": [
        "##Ex4 Drop all duplicates\n",
        "If we need to drop all the duplicate rows, then it can be done by using keep=False, as shown below."
      ]
    },
    {
      "cell_type": "code",
      "metadata": {
        "colab": {
          "base_uri": "https://localhost:8080/"
        },
        "id": "nxxwdStAnrqc",
        "outputId": "2c351823-0474-4769-f0a8-49abc16ce336"
      },
      "source": [
        "import pandas as pd\n",
        "\n",
        "student_dict = {'Name': ['Joe', 'Nat', 'Harry', 'Joe', 'Nat'], 'Age': [20, 21, 19, 20, 21], 'Mark': [70, 77.80, 91.54, 85.10, 77.80]}\n",
        "\n",
        "print('Before')\n",
        "# Create DataFrame from dict\n",
        "student_df = pd.DataFrame(student_dict)\n",
        "print(student_df)\n",
        "\n",
        "print('\\nAfter')\n",
        "student_df = student_df.drop_duplicates(keep=False)\n",
        "\n",
        "print(student_df)\n"
      ],
      "execution_count": null,
      "outputs": [
        {
          "output_type": "stream",
          "text": [
            "Before\n",
            "    Name  Age   Mark\n",
            "0    Joe   20  70.00\n",
            "1    Nat   21  77.80\n",
            "2  Harry   19  91.54\n",
            "3    Joe   20  85.10\n",
            "4    Nat   21  77.80\n",
            "\n",
            "After\n",
            "    Name  Age   Mark\n",
            "0    Joe   20  70.00\n",
            "2  Harry   19  91.54\n",
            "3    Joe   20  85.10\n"
          ],
          "name": "stdout"
        }
      ]
    },
    {
      "cell_type": "markdown",
      "metadata": {
        "id": "QFiNnNxhiX6m"
      },
      "source": [
        "#1.3 Irregular Data (Outliers)\n"
      ]
    },
    {
      "cell_type": "code",
      "metadata": {
        "id": "MGJPMdUszNqm",
        "colab": {
          "base_uri": "https://localhost:8080/",
          "height": 417
        },
        "outputId": "f57b12ed-86c3-4d4b-8f49-0ad17088f63c"
      },
      "source": [
        "import pandas as pd\n",
        "df = pd.read_csv(\"mystudents.csv\")\n",
        "df"
      ],
      "execution_count": null,
      "outputs": [
        {
          "output_type": "error",
          "ename": "FileNotFoundError",
          "evalue": "ignored",
          "traceback": [
            "\u001b[0;31m---------------------------------------------------------------------------\u001b[0m",
            "\u001b[0;31mFileNotFoundError\u001b[0m                         Traceback (most recent call last)",
            "\u001b[0;32m<ipython-input-36-f7a118b00e14>\u001b[0m in \u001b[0;36m<module>\u001b[0;34m()\u001b[0m\n\u001b[1;32m      1\u001b[0m \u001b[0;32mimport\u001b[0m \u001b[0mpandas\u001b[0m \u001b[0;32mas\u001b[0m \u001b[0mpd\u001b[0m\u001b[0;34m\u001b[0m\u001b[0;34m\u001b[0m\u001b[0m\n\u001b[0;32m----> 2\u001b[0;31m \u001b[0mdf\u001b[0m \u001b[0;34m=\u001b[0m \u001b[0mpd\u001b[0m\u001b[0;34m.\u001b[0m\u001b[0mread_csv\u001b[0m\u001b[0;34m(\u001b[0m\u001b[0;34m\"mystudents.csv\"\u001b[0m\u001b[0;34m)\u001b[0m\u001b[0;34m\u001b[0m\u001b[0;34m\u001b[0m\u001b[0m\n\u001b[0m\u001b[1;32m      3\u001b[0m \u001b[0mdf\u001b[0m\u001b[0;34m\u001b[0m\u001b[0;34m\u001b[0m\u001b[0m\n",
            "\u001b[0;32m/usr/local/lib/python3.7/dist-packages/pandas/io/parsers.py\u001b[0m in \u001b[0;36mread_csv\u001b[0;34m(filepath_or_buffer, sep, delimiter, header, names, index_col, usecols, squeeze, prefix, mangle_dupe_cols, dtype, engine, converters, true_values, false_values, skipinitialspace, skiprows, skipfooter, nrows, na_values, keep_default_na, na_filter, verbose, skip_blank_lines, parse_dates, infer_datetime_format, keep_date_col, date_parser, dayfirst, cache_dates, iterator, chunksize, compression, thousands, decimal, lineterminator, quotechar, quoting, doublequote, escapechar, comment, encoding, dialect, error_bad_lines, warn_bad_lines, delim_whitespace, low_memory, memory_map, float_precision)\u001b[0m\n\u001b[1;32m    686\u001b[0m     )\n\u001b[1;32m    687\u001b[0m \u001b[0;34m\u001b[0m\u001b[0m\n\u001b[0;32m--> 688\u001b[0;31m     \u001b[0;32mreturn\u001b[0m \u001b[0m_read\u001b[0m\u001b[0;34m(\u001b[0m\u001b[0mfilepath_or_buffer\u001b[0m\u001b[0;34m,\u001b[0m \u001b[0mkwds\u001b[0m\u001b[0;34m)\u001b[0m\u001b[0;34m\u001b[0m\u001b[0;34m\u001b[0m\u001b[0m\n\u001b[0m\u001b[1;32m    689\u001b[0m \u001b[0;34m\u001b[0m\u001b[0m\n\u001b[1;32m    690\u001b[0m \u001b[0;34m\u001b[0m\u001b[0m\n",
            "\u001b[0;32m/usr/local/lib/python3.7/dist-packages/pandas/io/parsers.py\u001b[0m in \u001b[0;36m_read\u001b[0;34m(filepath_or_buffer, kwds)\u001b[0m\n\u001b[1;32m    452\u001b[0m \u001b[0;34m\u001b[0m\u001b[0m\n\u001b[1;32m    453\u001b[0m     \u001b[0;31m# Create the parser.\u001b[0m\u001b[0;34m\u001b[0m\u001b[0;34m\u001b[0m\u001b[0;34m\u001b[0m\u001b[0m\n\u001b[0;32m--> 454\u001b[0;31m     \u001b[0mparser\u001b[0m \u001b[0;34m=\u001b[0m \u001b[0mTextFileReader\u001b[0m\u001b[0;34m(\u001b[0m\u001b[0mfp_or_buf\u001b[0m\u001b[0;34m,\u001b[0m \u001b[0;34m**\u001b[0m\u001b[0mkwds\u001b[0m\u001b[0;34m)\u001b[0m\u001b[0;34m\u001b[0m\u001b[0;34m\u001b[0m\u001b[0m\n\u001b[0m\u001b[1;32m    455\u001b[0m \u001b[0;34m\u001b[0m\u001b[0m\n\u001b[1;32m    456\u001b[0m     \u001b[0;32mif\u001b[0m \u001b[0mchunksize\u001b[0m \u001b[0;32mor\u001b[0m \u001b[0miterator\u001b[0m\u001b[0;34m:\u001b[0m\u001b[0;34m\u001b[0m\u001b[0;34m\u001b[0m\u001b[0m\n",
            "\u001b[0;32m/usr/local/lib/python3.7/dist-packages/pandas/io/parsers.py\u001b[0m in \u001b[0;36m__init__\u001b[0;34m(self, f, engine, **kwds)\u001b[0m\n\u001b[1;32m    946\u001b[0m             \u001b[0mself\u001b[0m\u001b[0;34m.\u001b[0m\u001b[0moptions\u001b[0m\u001b[0;34m[\u001b[0m\u001b[0;34m\"has_index_names\"\u001b[0m\u001b[0;34m]\u001b[0m \u001b[0;34m=\u001b[0m \u001b[0mkwds\u001b[0m\u001b[0;34m[\u001b[0m\u001b[0;34m\"has_index_names\"\u001b[0m\u001b[0;34m]\u001b[0m\u001b[0;34m\u001b[0m\u001b[0;34m\u001b[0m\u001b[0m\n\u001b[1;32m    947\u001b[0m \u001b[0;34m\u001b[0m\u001b[0m\n\u001b[0;32m--> 948\u001b[0;31m         \u001b[0mself\u001b[0m\u001b[0;34m.\u001b[0m\u001b[0m_make_engine\u001b[0m\u001b[0;34m(\u001b[0m\u001b[0mself\u001b[0m\u001b[0;34m.\u001b[0m\u001b[0mengine\u001b[0m\u001b[0;34m)\u001b[0m\u001b[0;34m\u001b[0m\u001b[0;34m\u001b[0m\u001b[0m\n\u001b[0m\u001b[1;32m    949\u001b[0m \u001b[0;34m\u001b[0m\u001b[0m\n\u001b[1;32m    950\u001b[0m     \u001b[0;32mdef\u001b[0m \u001b[0mclose\u001b[0m\u001b[0;34m(\u001b[0m\u001b[0mself\u001b[0m\u001b[0;34m)\u001b[0m\u001b[0;34m:\u001b[0m\u001b[0;34m\u001b[0m\u001b[0;34m\u001b[0m\u001b[0m\n",
            "\u001b[0;32m/usr/local/lib/python3.7/dist-packages/pandas/io/parsers.py\u001b[0m in \u001b[0;36m_make_engine\u001b[0;34m(self, engine)\u001b[0m\n\u001b[1;32m   1178\u001b[0m     \u001b[0;32mdef\u001b[0m \u001b[0m_make_engine\u001b[0m\u001b[0;34m(\u001b[0m\u001b[0mself\u001b[0m\u001b[0;34m,\u001b[0m \u001b[0mengine\u001b[0m\u001b[0;34m=\u001b[0m\u001b[0;34m\"c\"\u001b[0m\u001b[0;34m)\u001b[0m\u001b[0;34m:\u001b[0m\u001b[0;34m\u001b[0m\u001b[0;34m\u001b[0m\u001b[0m\n\u001b[1;32m   1179\u001b[0m         \u001b[0;32mif\u001b[0m \u001b[0mengine\u001b[0m \u001b[0;34m==\u001b[0m \u001b[0;34m\"c\"\u001b[0m\u001b[0;34m:\u001b[0m\u001b[0;34m\u001b[0m\u001b[0;34m\u001b[0m\u001b[0m\n\u001b[0;32m-> 1180\u001b[0;31m             \u001b[0mself\u001b[0m\u001b[0;34m.\u001b[0m\u001b[0m_engine\u001b[0m \u001b[0;34m=\u001b[0m \u001b[0mCParserWrapper\u001b[0m\u001b[0;34m(\u001b[0m\u001b[0mself\u001b[0m\u001b[0;34m.\u001b[0m\u001b[0mf\u001b[0m\u001b[0;34m,\u001b[0m \u001b[0;34m**\u001b[0m\u001b[0mself\u001b[0m\u001b[0;34m.\u001b[0m\u001b[0moptions\u001b[0m\u001b[0;34m)\u001b[0m\u001b[0;34m\u001b[0m\u001b[0;34m\u001b[0m\u001b[0m\n\u001b[0m\u001b[1;32m   1181\u001b[0m         \u001b[0;32melse\u001b[0m\u001b[0;34m:\u001b[0m\u001b[0;34m\u001b[0m\u001b[0;34m\u001b[0m\u001b[0m\n\u001b[1;32m   1182\u001b[0m             \u001b[0;32mif\u001b[0m \u001b[0mengine\u001b[0m \u001b[0;34m==\u001b[0m \u001b[0;34m\"python\"\u001b[0m\u001b[0;34m:\u001b[0m\u001b[0;34m\u001b[0m\u001b[0;34m\u001b[0m\u001b[0m\n",
            "\u001b[0;32m/usr/local/lib/python3.7/dist-packages/pandas/io/parsers.py\u001b[0m in \u001b[0;36m__init__\u001b[0;34m(self, src, **kwds)\u001b[0m\n\u001b[1;32m   2008\u001b[0m         \u001b[0mkwds\u001b[0m\u001b[0;34m[\u001b[0m\u001b[0;34m\"usecols\"\u001b[0m\u001b[0;34m]\u001b[0m \u001b[0;34m=\u001b[0m \u001b[0mself\u001b[0m\u001b[0;34m.\u001b[0m\u001b[0musecols\u001b[0m\u001b[0;34m\u001b[0m\u001b[0;34m\u001b[0m\u001b[0m\n\u001b[1;32m   2009\u001b[0m \u001b[0;34m\u001b[0m\u001b[0m\n\u001b[0;32m-> 2010\u001b[0;31m         \u001b[0mself\u001b[0m\u001b[0;34m.\u001b[0m\u001b[0m_reader\u001b[0m \u001b[0;34m=\u001b[0m \u001b[0mparsers\u001b[0m\u001b[0;34m.\u001b[0m\u001b[0mTextReader\u001b[0m\u001b[0;34m(\u001b[0m\u001b[0msrc\u001b[0m\u001b[0;34m,\u001b[0m \u001b[0;34m**\u001b[0m\u001b[0mkwds\u001b[0m\u001b[0;34m)\u001b[0m\u001b[0;34m\u001b[0m\u001b[0;34m\u001b[0m\u001b[0m\n\u001b[0m\u001b[1;32m   2011\u001b[0m         \u001b[0mself\u001b[0m\u001b[0;34m.\u001b[0m\u001b[0munnamed_cols\u001b[0m \u001b[0;34m=\u001b[0m \u001b[0mself\u001b[0m\u001b[0;34m.\u001b[0m\u001b[0m_reader\u001b[0m\u001b[0;34m.\u001b[0m\u001b[0munnamed_cols\u001b[0m\u001b[0;34m\u001b[0m\u001b[0;34m\u001b[0m\u001b[0m\n\u001b[1;32m   2012\u001b[0m \u001b[0;34m\u001b[0m\u001b[0m\n",
            "\u001b[0;32mpandas/_libs/parsers.pyx\u001b[0m in \u001b[0;36mpandas._libs.parsers.TextReader.__cinit__\u001b[0;34m()\u001b[0m\n",
            "\u001b[0;32mpandas/_libs/parsers.pyx\u001b[0m in \u001b[0;36mpandas._libs.parsers.TextReader._setup_parser_source\u001b[0;34m()\u001b[0m\n",
            "\u001b[0;31mFileNotFoundError\u001b[0m: [Errno 2] No such file or directory: 'mystudents.csv'"
          ]
        }
      ]
    },
    {
      "cell_type": "code",
      "metadata": {
        "id": "YdR5Tp4r7Z32"
      },
      "source": [
        "df = df.dropna()\n",
        "df"
      ],
      "execution_count": null,
      "outputs": []
    },
    {
      "cell_type": "markdown",
      "metadata": {
        "id": "SsGmH4KZ8JZW"
      },
      "source": [
        "##Ex1 Use intuition"
      ]
    },
    {
      "cell_type": "code",
      "metadata": {
        "id": "eq5m3O258SiF"
      },
      "source": [
        "temp = df [df['Age'] < 0]\n",
        "print(temp)\n",
        "print(temp.shape)"
      ],
      "execution_count": null,
      "outputs": []
    },
    {
      "cell_type": "code",
      "metadata": {
        "id": "J8HDNHh72UJO"
      },
      "source": [
        "df= df[df['Age'] > 0  ]\n",
        "df"
      ],
      "execution_count": null,
      "outputs": []
    },
    {
      "cell_type": "markdown",
      "metadata": {
        "id": "HjyQHPM9874m"
      },
      "source": [
        "##Ex2 Use Boxplot for Data Visualization"
      ]
    },
    {
      "cell_type": "code",
      "metadata": {
        "id": "6hUINhiz9GKF"
      },
      "source": [
        "df"
      ],
      "execution_count": null,
      "outputs": []
    },
    {
      "cell_type": "code",
      "metadata": {
        "id": "eTIFYVGI9Aq0"
      },
      "source": [
        "df.hist()"
      ],
      "execution_count": null,
      "outputs": []
    },
    {
      "cell_type": "code",
      "metadata": {
        "id": "Tz9ilowk9Zn9"
      },
      "source": [
        "df.boxplot(column=['Student ID'])"
      ],
      "execution_count": null,
      "outputs": []
    },
    {
      "cell_type": "code",
      "metadata": {
        "id": "bAneREOD-TWz"
      },
      "source": [
        "df.boxplot(column=['Age'])"
      ],
      "execution_count": null,
      "outputs": []
    },
    {
      "cell_type": "code",
      "metadata": {
        "id": "z9ikCnFU-oQu"
      },
      "source": [
        "df['Age'].value_counts()"
      ],
      "execution_count": null,
      "outputs": []
    },
    {
      "cell_type": "code",
      "metadata": {
        "id": "0Ei3vzLQ-141"
      },
      "source": [
        "df['Age'].value_counts().plot.bar()"
      ],
      "execution_count": null,
      "outputs": []
    },
    {
      "cell_type": "code",
      "metadata": {
        "id": "9sVPQfjh984z"
      },
      "source": [
        "df.describe()"
      ],
      "execution_count": null,
      "outputs": []
    },
    {
      "cell_type": "code",
      "metadata": {
        "id": "cMLApOAn-Ii9"
      },
      "source": [
        "df['Age'].describe()"
      ],
      "execution_count": null,
      "outputs": []
    },
    {
      "cell_type": "markdown",
      "metadata": {
        "id": "WQoDjwOog2yI"
      },
      "source": [
        "#1.4 Unnecessary or Outdated Data\n"
      ]
    },
    {
      "cell_type": "code",
      "metadata": {
        "id": "fIl9G2gVzdjT"
      },
      "source": [
        "import pandas as pd\n",
        "df = pd.read_csv(\"mystudents.csv\")\n",
        "df"
      ],
      "execution_count": null,
      "outputs": []
    },
    {
      "cell_type": "markdown",
      "metadata": {
        "id": "JIPisZaq1Ck8"
      },
      "source": [
        "##Prob1 \n",
        "Which rows/columns/section may be irrelevant or unnecessary?\n",
        "Can you remove such data?\n",
        "\n",
        "Hint: check out the drop() method"
      ]
    },
    {
      "cell_type": "markdown",
      "metadata": {
        "id": "ODFwuMbf20yz"
      },
      "source": [
        "##Prob2 \n",
        "Which rows/columns/section may be outdated?\n",
        "Can you remove such data?"
      ]
    },
    {
      "cell_type": "markdown",
      "metadata": {
        "id": "oo-69fP1vSVW"
      },
      "source": [
        "#2.Data Integration"
      ]
    },
    {
      "cell_type": "markdown",
      "metadata": {
        "id": "EdT2AdCv7WmK"
      },
      "source": [
        "##Ex 1 Merge two dataframes"
      ]
    },
    {
      "cell_type": "code",
      "metadata": {
        "id": "y-A6YJL45OtC"
      },
      "source": [
        "import pandas as pd\n",
        "df1 = pd.read_csv('https://raw.githubusercontent.com/TrainingByPackt/Data-Science-with-Python/master/Chapter01/Data/mark.csv',header = 0)\n",
        "df2 = pd.read_csv('https://raw.githubusercontent.com/TrainingByPackt/Data-Science-with-Python/master/Chapter01/Data/student.csv',header = 0)"
      ],
      "execution_count": null,
      "outputs": []
    },
    {
      "cell_type": "code",
      "metadata": {
        "id": "K6p196XL5fCq"
      },
      "source": [
        "df1"
      ],
      "execution_count": null,
      "outputs": []
    },
    {
      "cell_type": "code",
      "metadata": {
        "id": "fL4r1lBs6rUz"
      },
      "source": [
        "df2"
      ],
      "execution_count": null,
      "outputs": []
    },
    {
      "cell_type": "code",
      "metadata": {
        "id": "JJ6Z5wTt7L0q"
      },
      "source": [
        "#Perform data integration to both the dataframe with respect to the column ‘Student_id’ using ‘pd.merge() function\n",
        "df = pd.merge(df1, df2, on = 'Student_id')\n",
        "df"
      ],
      "execution_count": null,
      "outputs": []
    },
    {
      "cell_type": "markdown",
      "metadata": {
        "id": "_mpts7x-8Gkh"
      },
      "source": [
        "##Ex2 Join two datafames\n",
        "DataFrame.join() function is used to join one DataFrame with another DataFrame as df1.join(df2)"
      ]
    },
    {
      "cell_type": "code",
      "metadata": {
        "id": "magIliKm8QnA"
      },
      "source": [
        "import pandas as pd\n",
        "\n",
        "# create dataframe from dict \n",
        "print('student_df')\n",
        "student_dict = {'Name': ['Joe', 'Nat'], 'Age': [20, 21]}\n",
        "student_df = pd.DataFrame(student_dict)\n",
        "print(student_df)\n",
        "\n",
        "print('\\nmark_df')\n",
        "# create dataframe from dict \n",
        "mark_dict = {'Mark': [85.10, 77.80]}\n",
        "mark_df = pd.DataFrame(mark_dict)\n",
        "print(mark_df)\n",
        "\n",
        "print('\\njoined _df')\n",
        "# join dfs\n",
        "joined_df = student_df.join(mark_df)\n",
        "print(joined_df)"
      ],
      "execution_count": null,
      "outputs": []
    },
    {
      "cell_type": "markdown",
      "metadata": {
        "id": "yLhcOtFMIqhe"
      },
      "source": [
        "##Ex3 Concatenation"
      ]
    },
    {
      "cell_type": "code",
      "metadata": {
        "id": "Wp0nfHuNIpFj"
      },
      "source": [
        "import pandas as pd\n",
        "\n",
        "student_dict1 = {'Name': ['Joe', 'Nat'], 'Age': [20, 21, ], 'Mark': [85.10, 77.80, ]}\n",
        "student_dict2 = {'Name': [ 'Harry', 'Ethan'], 'Age': [19, 21], 'Mark': [91.54, 71.80]}\n",
        "print('student_df1')\n",
        "# Create DataFrame from dict\n",
        "student_df1 = pd.DataFrame(student_dict1)\n",
        "print(student_df1)\n",
        "\n",
        "print('\\nstudent_df2')\n",
        "# Create DataFrame from dict\n",
        "student_df2 = pd.DataFrame(student_dict2)\n",
        "print(student_df2)\n",
        "\n",
        "print('\\ncombined')\n",
        "combined_df = pd.concat([student_df1, student_df2], axis=0)  # (axis = 0 for row, axis = 1 for column)\n",
        "print(combined_df)"
      ],
      "execution_count": null,
      "outputs": []
    },
    {
      "cell_type": "markdown",
      "metadata": {
        "id": "3QOFwhJE-rZL"
      },
      "source": [
        "##Ex 4: Aggregate or group dataframes based on condition\n",
        "GroupBy means splitting the data and then combining them based on some condition. Large data can be divided into logical groups to analyze it.\n",
        "\n",
        "DataFrame.groupby() function groups the DataFrame row-wise or column-wise based on the condition.\n",
        "\n",
        "Example: To analyze each class’s average marks, we need to combine the student data based on the ‘Class’ column and calculate its average using df.groupby(col_label).mean()"
      ]
    },
    {
      "cell_type": "code",
      "metadata": {
        "id": "jPTfnIPk-qz1"
      },
      "source": [
        "import pandas as pd\n",
        "\n",
        "# Create DataFrame from dict\n",
        "student_dict = {'Name': ['Joe', 'Nat', 'Harry'], 'Class': ['A', 'B', 'A'], 'Mark': [85.10, 77.80, 91.54]}\n",
        "student_df = pd.DataFrame(student_dict)\n",
        "print(student_df)\n",
        "\n",
        "print('\\nGroupby mean')\n",
        "# apply group by \n",
        "student_df = student_df.groupby('Class').mean()\n",
        "print(student_df)"
      ],
      "execution_count": null,
      "outputs": []
    },
    {
      "cell_type": "code",
      "metadata": {
        "id": "eycMKbuKe_UL"
      },
      "source": [
        "import pandas as pd\n",
        "\n",
        "# Create DataFrame from dict\n",
        "student_dict = {'Name': ['Joe', 'Nat', 'Harry'], 'Class': ['A', 'B', 'A'], 'Mark': [85.10, 77.80, 91.54]}\n",
        "student_df = pd.DataFrame(student_dict)\n",
        "print(student_df)\n",
        "\n",
        "print('\\nSelect only Mark column')\n",
        "student_stat = student_df['Mark']\n",
        "print(student_stat)\n",
        "\n",
        "print('\\nAggregate')\n",
        "student_agg = student_stat.agg(['sum', 'max','mean']) #list of function names\n",
        "print(student_agg)"
      ],
      "execution_count": null,
      "outputs": []
    },
    {
      "cell_type": "markdown",
      "metadata": {
        "id": "i4JMjU0jvmeC"
      },
      "source": [
        "#3.Data Transformation\n",
        "**Ref:** [Label Encoding](https://www.mygreatlearning.com/blog/label-encoding-in-python/)"
      ]
    },
    {
      "cell_type": "markdown",
      "metadata": {
        "id": "FlKEVMosAQhg"
      },
      "source": [
        "##Ex1 Transpose"
      ]
    },
    {
      "cell_type": "code",
      "metadata": {
        "id": "ZvmR9BfsNY7J"
      },
      "source": [
        "import pandas as pd\n",
        "\n",
        "# Create DataFrame from dict\n",
        "student_dict = {'Name': ['Joe', 'Nat', 'Harry'], 'Class': ['A', 'B', 'A'], 'Mark': [85.10, 77.80, 91.54]}\n",
        "student_df = pd.DataFrame(student_dict)\n",
        "print(student_df)\n",
        "\n",
        "print('\\nTranspose View')\n",
        "print(student_df.T)\n"
      ],
      "execution_count": null,
      "outputs": []
    },
    {
      "cell_type": "markdown",
      "metadata": {
        "id": "YJY5uql7O2dt"
      },
      "source": [
        "##Ex2 Replace Categorical Values"
      ]
    },
    {
      "cell_type": "code",
      "metadata": {
        "id": "lw7hRM9MAf78"
      },
      "source": [
        "import pandas as pd\n",
        "import numpy as np\n",
        "df = pd.read_csv(\"https://raw.githubusercontent.com/TrainingByPackt/Data-Science-with-Python/master/Chapter01/Data/student.csv\")\n",
        "df.head()"
      ],
      "execution_count": null,
      "outputs": []
    },
    {
      "cell_type": "code",
      "metadata": {
        "id": "fQglum16-T0f"
      },
      "source": [
        "df.dtypes"
      ],
      "execution_count": null,
      "outputs": []
    },
    {
      "cell_type": "code",
      "metadata": {
        "id": "aZFhy8xmAQB2"
      },
      "source": [
        "#Use select_dtypes() function from pandas dataframe to find the categorical or non-numerical column and separate out with different dataframe df_categorical\n",
        "df_categorical = df.select_dtypes(exclude=np.number)\n",
        "df_categorical.head()"
      ],
      "execution_count": null,
      "outputs": []
    },
    {
      "cell_type": "code",
      "metadata": {
        "id": "cpzINmZDD_sY"
      },
      "source": [
        "#find unique values in the column\n",
        "df_categorical['Gender'].unique()"
      ],
      "execution_count": null,
      "outputs": []
    },
    {
      "cell_type": "code",
      "metadata": {
        "id": "MfYWiVZkH3ZP"
      },
      "source": [
        "df_categorical = df_categorical.replace({'Male': 1, 'Female':2})\n",
        "df_categorical"
      ],
      "execution_count": null,
      "outputs": []
    },
    {
      "cell_type": "markdown",
      "metadata": {
        "id": "ubk0iVtSQPLr"
      },
      "source": [
        "##Ex3 Label Encoder\n"
      ]
    },
    {
      "cell_type": "code",
      "metadata": {
        "id": "GqCXbbd9QNS-"
      },
      "source": [
        "import pandas as pd\n",
        "import numpy as np\n",
        "df = pd.read_csv(\"https://raw.githubusercontent.com/TrainingByPackt/Data-Science-with-Python/master/Chapter01/Data/student.csv\")\n",
        "df.head()"
      ],
      "execution_count": null,
      "outputs": []
    },
    {
      "cell_type": "code",
      "metadata": {
        "id": "q9Iv5CRTRAZe"
      },
      "source": [
        "#import the LabelEncoder class\n",
        "from sklearn.preprocessing import LabelEncoder\n",
        "#Creating the object instance\n",
        "label_encoder = LabelEncoder()"
      ],
      "execution_count": null,
      "outputs": []
    },
    {
      "cell_type": "code",
      "metadata": {
        "id": "F_EKhbTkRw41"
      },
      "source": [
        "df['Gender'] = label_encoder.fit_transform(df['Gender'])\n",
        "df.head()"
      ],
      "execution_count": null,
      "outputs": []
    },
    {
      "cell_type": "markdown",
      "metadata": {
        "id": "GeByIxhlSQ6p"
      },
      "source": [
        "##Ex4 One Hot Encoder\n",
        "\n",
        "Alternative: \n",
        "use OneHotEncoder class from sklearn.preprocessing"
      ]
    },
    {
      "cell_type": "code",
      "metadata": {
        "id": "OMTQs5GwTvad"
      },
      "source": [
        "import pandas as pd\n",
        "import numpy as np\n",
        "df = pd.read_csv(\"https://raw.githubusercontent.com/TrainingByPackt/Data-Science-with-Python/master/Chapter01/Data/student.csv\")\n",
        "df.head()"
      ],
      "execution_count": null,
      "outputs": []
    },
    {
      "cell_type": "code",
      "metadata": {
        "id": "VwGjK4FiT3CE"
      },
      "source": [
        "df['Grade'].unique()"
      ],
      "execution_count": null,
      "outputs": []
    },
    {
      "cell_type": "code",
      "metadata": {
        "id": "896_BfiVXhxt"
      },
      "source": [
        "#get_dummies creates a one-hot encoding for each unique categorical\n",
        "#value in the column named col_name. Here, the prefix is added at the beginning of each categorical value \n",
        "#to create new column names for the one-hot columns\n",
        "#df_onehot = pd.get_dummies(df, columns=['Grade'], prefix=['one_hot'])\n",
        "\n",
        "df_onehot = pd.get_dummies(df, columns=['Grade'])\n",
        "df_onehot.head()"
      ],
      "execution_count": null,
      "outputs": []
    },
    {
      "cell_type": "code",
      "metadata": {
        "id": "WGaq0e04TRPr"
      },
      "source": [
        "#import the OneHotEncoder class\n",
        "from sklearn.preprocessing import OneHotEncoder\n",
        "#Creating the object instance\n",
        "onehot_encoder = OneHotEncoder(sparse=False)"
      ],
      "execution_count": null,
      "outputs": []
    },
    {
      "cell_type": "markdown",
      "metadata": {
        "id": "CEAK4kh3jgUR"
      },
      "source": [
        "##Ex5 Scaling"
      ]
    },
    {
      "cell_type": "code",
      "metadata": {
        "id": "pZfkRbMWjfQw"
      },
      "source": [
        "import pandas as pd\n",
        "\n",
        "# Create DataFrame from dict\n",
        "student_dict = {'Name': ['Joe', 'Nat', 'Harry'], 'Class': ['A', 'B', 'A'], 'Mark': [65.10, 55.80, 71.54]}\n",
        "student_df = pd.DataFrame(student_dict)\n",
        "print(student_df)"
      ],
      "execution_count": null,
      "outputs": []
    },
    {
      "cell_type": "code",
      "metadata": {
        "id": "yJStTC4okGSJ"
      },
      "source": [
        "student_df = pd.DataFrame(student_dict)\n",
        "student_df['Mark'] = student_df['Mark'] + 10\n",
        "print(student_df)"
      ],
      "execution_count": null,
      "outputs": []
    },
    {
      "cell_type": "code",
      "metadata": {
        "id": "8o47Ld0sovx8"
      },
      "source": [
        "student_df = pd.DataFrame(student_dict)\n",
        "student_df['Mark'] = 0\n",
        "print(student_df)"
      ],
      "execution_count": null,
      "outputs": []
    },
    {
      "cell_type": "code",
      "metadata": {
        "id": "UXHMcOkdpU84"
      },
      "source": [
        "student_df = pd.DataFrame(student_dict)\n",
        "temp_df = student_df[ student_df['Mark'] > 60 ]\n",
        "print(temp_df)"
      ],
      "execution_count": null,
      "outputs": []
    },
    {
      "cell_type": "markdown",
      "metadata": {
        "id": "bfCMPLOQlHwP"
      },
      "source": [
        "##Ex6 Min-Max Scaling\n",
        "Perform the Normalization scaling by using MinMaxScaler() class from sklearn.preprocessing and its fit_transorm() method.\n",
        "\n",
        "Transform columns by scaling each column to a given range individually,  e.g. between zero and one.\n",
        "\n",
        "Ref: [sklearn.preprocessing.MinMaxScaler](https://scikit-learn.org/stable/modules/generated/sklearn.preprocessing.MinMaxScaler.html)"
      ]
    },
    {
      "cell_type": "code",
      "metadata": {
        "id": "koOruKX1lLlc"
      },
      "source": [
        "import pandas as pd\n",
        "df = pd.read_csv(\"https://raw.githubusercontent.com/TrainingByPackt/Data-Science-with-Python/master/Chapter01/Data/Wholesale%20customers%20data.csv\")\n",
        "df.head()"
      ],
      "execution_count": null,
      "outputs": []
    },
    {
      "cell_type": "code",
      "metadata": {
        "id": "rGmqRmillU2m"
      },
      "source": [
        "null_df = df.isna().any()\n",
        "print(null_df)"
      ],
      "execution_count": null,
      "outputs": []
    },
    {
      "cell_type": "code",
      "metadata": {
        "id": "4K7nfbnhmFOl"
      },
      "source": [
        "from sklearn.preprocessing import MinMaxScaler\n",
        "#Creating the object instance\n",
        "min_max_scaler = MinMaxScaler()\n",
        "\n",
        "#norm_scale = MinMaxScaler().fit_transform(df) #alternative\n",
        "\n",
        "norm_scale = min_max_scaler.fit_transform(df) \n",
        "scaled_frame = pd.DataFrame(norm_scale,columns=df.columns)\n",
        "scaled_frame.head()"
      ],
      "execution_count": null,
      "outputs": []
    },
    {
      "cell_type": "markdown",
      "metadata": {
        "id": "-eIzGDlZy8X3"
      },
      "source": [
        "##Ex7 Discretization\n",
        "Data discretization is the process of converting continuous data into discrete buckets by grouping it.\n",
        "pandas.cut()  function is useful to achieve the bucketing and sorting of segmented data. "
      ]
    },
    {
      "cell_type": "code",
      "metadata": {
        "id": "POvAwt_X3fhf"
      },
      "source": [
        "import pandas as pd\n",
        "df = pd.read_csv('https://raw.githubusercontent.com/TrainingByPackt/Data-Science-with-Python/master/Chapter01/Data/Student_bucketing.csv',header = 0)\n",
        "df.head(10)"
      ],
      "execution_count": null,
      "outputs": []
    },
    {
      "cell_type": "code",
      "metadata": {
        "id": "Ci1oal-34W_J"
      },
      "source": [
        "df['mark_class'] = pd.cut(df['marks'],5,labels = ['Poor','Below_average','Average','Above_Average','Excellent'])\n",
        "df.head(10)"
      ],
      "execution_count": null,
      "outputs": []
    },
    {
      "cell_type": "code",
      "metadata": {
        "id": "LHgOwWOp4woN"
      },
      "source": [
        "df['mark_class'].unique()"
      ],
      "execution_count": null,
      "outputs": []
    },
    {
      "cell_type": "code",
      "metadata": {
        "id": "KJIQdo7J5VQC"
      },
      "source": [
        "df.mark_class.value_counts()"
      ],
      "execution_count": null,
      "outputs": []
    }
  ]
}