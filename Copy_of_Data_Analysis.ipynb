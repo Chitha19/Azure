{
  "nbformat": 4,
  "nbformat_minor": 0,
  "metadata": {
    "kernelspec": {
      "display_name": "Python 3",
      "language": "python",
      "name": "python3"
    },
    "language_info": {
      "codemirror_mode": {
        "name": "ipython",
        "version": 3
      },
      "file_extension": ".py",
      "mimetype": "text/x-python",
      "name": "python",
      "nbconvert_exporter": "python",
      "pygments_lexer": "ipython3",
      "version": "3.7.1"
    },
    "colab": {
      "name": "Copy of Data Analysis.ipynb",
      "provenance": [],
      "collapsed_sections": [],
      "toc_visible": true,
      "include_colab_link": true
    }
  },
  "cells": [
    {
      "cell_type": "markdown",
      "metadata": {
        "id": "view-in-github",
        "colab_type": "text"
      },
      "source": [
        "<a href=\"https://colab.research.google.com/github/Chitha19/Azure/blob/main/Copy_of_Data_Analysis.ipynb\" target=\"_parent\"><img src=\"https://colab.research.google.com/assets/colab-badge.svg\" alt=\"Open In Colab\"/></a>"
      ]
    },
    {
      "cell_type": "markdown",
      "metadata": {
        "id": "AP9q72ndPmEy"
      },
      "source": [
        "#Preparation\n",
        "\n",
        "Upload file supermarket.csv \n",
        "\n",
        "Answer:\n",
        "\n",
        "1.   What is the business problem to address?\n",
        "2.   What data are given or should be given to us as a data engineer?\n",
        "3.   How are these data related to a colleague data scientist?\n",
        "\n",
        "For example, given a list of products and other relevant data, a data scientist may want to predict sales, i.e., using maching learning model.\n"
      ]
    },
    {
      "cell_type": "markdown",
      "metadata": {
        "id": "qNdxTplIKDZU"
      },
      "source": [
        "#1.Data Analysis\n",
        "If the column or variable is of numerical then we’ll analyze by calculating its mean, median, std, etc. To obtain, these values by using the describe function in Pandas.\n",
        "\n",
        "Ref: [Exploratory Data Analysis, Feature Engineering, and Modelling using Supermarket Sales Data. Part 1](https://towardsdatascience.com/exploratory-data-analysis-feature-engineering-and-modelling-using-supermarket-sales-data-part-1-228140f89298 )\n"
      ]
    },
    {
      "cell_type": "code",
      "metadata": {
        "id": "IPvJJx4VKDZW"
      },
      "source": [
        "import pandas as pd\n",
        "import numpy as np\n",
        "\n",
        "#package for data visualzation\n",
        "import matplotlib.pyplot as plt\n",
        "import seaborn as sns\n",
        "\n",
        "#Makes graph display in notebook\n",
        "%matplotlib inline   "
      ],
      "execution_count": null,
      "outputs": []
    },
    {
      "cell_type": "code",
      "metadata": {
        "id": "ydiOHq3WKDZX"
      },
      "source": [
        "supermarket_data = pd.read_csv('supermarket.csv')"
      ],
      "execution_count": null,
      "outputs": []
    },
    {
      "cell_type": "code",
      "metadata": {
        "id": "kcg2PG7gKDZX",
        "colab": {
          "base_uri": "https://localhost:8080/",
          "height": 243
        },
        "outputId": "a1fb7060-db34-4ad1-da2d-6e3bccd3679b"
      },
      "source": [
        "supermarket_data.head()"
      ],
      "execution_count": null,
      "outputs": [
        {
          "output_type": "execute_result",
          "data": {
            "text/html": [
              "<div>\n",
              "<style scoped>\n",
              "    .dataframe tbody tr th:only-of-type {\n",
              "        vertical-align: middle;\n",
              "    }\n",
              "\n",
              "    .dataframe tbody tr th {\n",
              "        vertical-align: top;\n",
              "    }\n",
              "\n",
              "    .dataframe thead th {\n",
              "        text-align: right;\n",
              "    }\n",
              "</style>\n",
              "<table border=\"1\" class=\"dataframe\">\n",
              "  <thead>\n",
              "    <tr style=\"text-align: right;\">\n",
              "      <th></th>\n",
              "      <th>Product_Identifier</th>\n",
              "      <th>Supermarket_Identifier</th>\n",
              "      <th>Product_Supermarket_Identifier</th>\n",
              "      <th>Product_Weight</th>\n",
              "      <th>Product_Fat_Content</th>\n",
              "      <th>Product_Shelf_Visibility</th>\n",
              "      <th>Product_Type</th>\n",
              "      <th>Product_Price</th>\n",
              "      <th>Supermarket_Opening_Year</th>\n",
              "      <th>Supermarket _Size</th>\n",
              "      <th>Supermarket_Location_Type</th>\n",
              "      <th>Supermarket_Type</th>\n",
              "      <th>Product_Supermarket_Sales</th>\n",
              "    </tr>\n",
              "  </thead>\n",
              "  <tbody>\n",
              "    <tr>\n",
              "      <th>0</th>\n",
              "      <td>DRA12</td>\n",
              "      <td>CHUKWUDI010</td>\n",
              "      <td>DRA12_CHUKWUDI010</td>\n",
              "      <td>11.6</td>\n",
              "      <td>Low Fat</td>\n",
              "      <td>0.068535</td>\n",
              "      <td>Soft Drinks</td>\n",
              "      <td>357.54</td>\n",
              "      <td>2005</td>\n",
              "      <td>NaN</td>\n",
              "      <td>Cluster 3</td>\n",
              "      <td>Grocery Store</td>\n",
              "      <td>709.08</td>\n",
              "    </tr>\n",
              "    <tr>\n",
              "      <th>1</th>\n",
              "      <td>DRA12</td>\n",
              "      <td>CHUKWUDI013</td>\n",
              "      <td>DRA12_CHUKWUDI013</td>\n",
              "      <td>11.6</td>\n",
              "      <td>Low Fat</td>\n",
              "      <td>0.040912</td>\n",
              "      <td>Soft Drinks</td>\n",
              "      <td>355.79</td>\n",
              "      <td>1994</td>\n",
              "      <td>High</td>\n",
              "      <td>Cluster 3</td>\n",
              "      <td>Supermarket Type1</td>\n",
              "      <td>6381.69</td>\n",
              "    </tr>\n",
              "    <tr>\n",
              "      <th>2</th>\n",
              "      <td>DRA12</td>\n",
              "      <td>CHUKWUDI017</td>\n",
              "      <td>DRA12_CHUKWUDI017</td>\n",
              "      <td>11.6</td>\n",
              "      <td>Low Fat</td>\n",
              "      <td>0.041178</td>\n",
              "      <td>Soft Drinks</td>\n",
              "      <td>350.79</td>\n",
              "      <td>2014</td>\n",
              "      <td>NaN</td>\n",
              "      <td>Cluster 2</td>\n",
              "      <td>Supermarket Type1</td>\n",
              "      <td>6381.69</td>\n",
              "    </tr>\n",
              "    <tr>\n",
              "      <th>3</th>\n",
              "      <td>DRA12</td>\n",
              "      <td>CHUKWUDI018</td>\n",
              "      <td>DRA12_CHUKWUDI018</td>\n",
              "      <td>11.6</td>\n",
              "      <td>Low Fat</td>\n",
              "      <td>0.041113</td>\n",
              "      <td>Soft Drinks</td>\n",
              "      <td>355.04</td>\n",
              "      <td>2016</td>\n",
              "      <td>Medium</td>\n",
              "      <td>Cluster 3</td>\n",
              "      <td>Supermarket Type2</td>\n",
              "      <td>2127.23</td>\n",
              "    </tr>\n",
              "    <tr>\n",
              "      <th>4</th>\n",
              "      <td>DRA12</td>\n",
              "      <td>CHUKWUDI035</td>\n",
              "      <td>DRA12_CHUKWUDI035</td>\n",
              "      <td>11.6</td>\n",
              "      <td>Ultra Low fat</td>\n",
              "      <td>0.000000</td>\n",
              "      <td>Soft Drinks</td>\n",
              "      <td>354.79</td>\n",
              "      <td>2011</td>\n",
              "      <td>Small</td>\n",
              "      <td>Cluster 2</td>\n",
              "      <td>Supermarket Type1</td>\n",
              "      <td>2481.77</td>\n",
              "    </tr>\n",
              "  </tbody>\n",
              "</table>\n",
              "</div>"
            ],
            "text/plain": [
              "  Product_Identifier  ... Product_Supermarket_Sales\n",
              "0              DRA12  ...                    709.08\n",
              "1              DRA12  ...                   6381.69\n",
              "2              DRA12  ...                   6381.69\n",
              "3              DRA12  ...                   2127.23\n",
              "4              DRA12  ...                   2481.77\n",
              "\n",
              "[5 rows x 13 columns]"
            ]
          },
          "metadata": {},
          "execution_count": 3
        }
      ]
    },
    {
      "cell_type": "markdown",
      "metadata": {
        "id": "_uVNRiviOj5J"
      },
      "source": [
        "**Column Information**\n",
        "\n",
        "1.   Product_Identifier: This is a unique ID for each particular product.\n",
        "2.   Supermarket_Identifier: This is a unique ID for each supermarket\n",
        "3.   Product_Supermarket_Identifier: This is a concatenation of the product and supermarket identifier.\n",
        "4.   Product_Weight: Weight of the product.\n",
        "5.   Product_Fat_Content: The amount of fat contained in the product.\n",
        "6.   Product_Shelf_Visibility: According to the data description, this is the total display area in percentage allocated to a group of the product.\n",
        "7.  Product_Type: This is the category to which the product belongs.\n",
        "8.   Product_Price: The price of the product.\n",
        "9.   Supermarket_Opening_Year: The year the supermarket was opened.สต์\n",
        "10.  Supermarket _Size: This is the size of the supermarket. It has been categorized into small, medium, and High.\n",
        "11.   Supermarket_Location_Type: This feature is a description of the location of the supermarket. According to the data, there are 3 clusters (Cluster 1,2, and 3). \n",
        "12.   Supermarket_Type: The type of supermarket categorizes into Grocery store, Supermarket Type1, Supermarket Type2, Supermarket Type3.\n",
        "13.   Product_Supermarket_Sales: This is our target variable for this post. It is the total amount of sales made in the supermarket.\n"
      ]
    },
    {
      "cell_type": "code",
      "metadata": {
        "id": "bVfI4PbWKDZY",
        "colab": {
          "base_uri": "https://localhost:8080/"
        },
        "outputId": "42f7ca4b-bdcb-419b-baaf-e318543b160e"
      },
      "source": [
        "#Displaty the number of rows and columns\n",
        "supermarket_data.shape"
      ],
      "execution_count": null,
      "outputs": [
        {
          "output_type": "execute_result",
          "data": {
            "text/plain": [
              "(4990, 13)"
            ]
          },
          "metadata": {},
          "execution_count": 4
        }
      ]
    },
    {
      "cell_type": "code",
      "metadata": {
        "id": "1fqzkDiYKDZY",
        "colab": {
          "base_uri": "https://localhost:8080/",
          "height": 320
        },
        "outputId": "c4aef30f-dca5-4410-8b1c-aa766b3de9bd"
      },
      "source": [
        "supermarket_data.describe()"
      ],
      "execution_count": null,
      "outputs": [
        {
          "output_type": "execute_result",
          "data": {
            "text/html": [
              "<div>\n",
              "<style scoped>\n",
              "    .dataframe tbody tr th:only-of-type {\n",
              "        vertical-align: middle;\n",
              "    }\n",
              "\n",
              "    .dataframe tbody tr th {\n",
              "        vertical-align: top;\n",
              "    }\n",
              "\n",
              "    .dataframe thead th {\n",
              "        text-align: right;\n",
              "    }\n",
              "</style>\n",
              "<table border=\"1\" class=\"dataframe\">\n",
              "  <thead>\n",
              "    <tr style=\"text-align: right;\">\n",
              "      <th></th>\n",
              "      <th>Product_Weight</th>\n",
              "      <th>Product_Shelf_Visibility</th>\n",
              "      <th>Product_Price</th>\n",
              "      <th>Supermarket_Opening_Year</th>\n",
              "      <th>Product_Supermarket_Sales</th>\n",
              "    </tr>\n",
              "  </thead>\n",
              "  <tbody>\n",
              "    <tr>\n",
              "      <th>count</th>\n",
              "      <td>4188.000000</td>\n",
              "      <td>4990.000000</td>\n",
              "      <td>4990.000000</td>\n",
              "      <td>4990.000000</td>\n",
              "      <td>4990.000000</td>\n",
              "    </tr>\n",
              "    <tr>\n",
              "      <th>mean</th>\n",
              "      <td>12.908838</td>\n",
              "      <td>0.066916</td>\n",
              "      <td>391.803796</td>\n",
              "      <td>2004.783567</td>\n",
              "      <td>6103.520164</td>\n",
              "    </tr>\n",
              "    <tr>\n",
              "      <th>std</th>\n",
              "      <td>4.703256</td>\n",
              "      <td>0.053058</td>\n",
              "      <td>119.378259</td>\n",
              "      <td>8.283151</td>\n",
              "      <td>4447.333835</td>\n",
              "    </tr>\n",
              "    <tr>\n",
              "      <th>min</th>\n",
              "      <td>4.555000</td>\n",
              "      <td>0.000000</td>\n",
              "      <td>78.730000</td>\n",
              "      <td>1992.000000</td>\n",
              "      <td>83.230000</td>\n",
              "    </tr>\n",
              "    <tr>\n",
              "      <th>25%</th>\n",
              "      <td>8.767500</td>\n",
              "      <td>0.027273</td>\n",
              "      <td>307.890000</td>\n",
              "      <td>1994.000000</td>\n",
              "      <td>2757.660000</td>\n",
              "    </tr>\n",
              "    <tr>\n",
              "      <th>50%</th>\n",
              "      <td>12.600000</td>\n",
              "      <td>0.053564</td>\n",
              "      <td>393.860000</td>\n",
              "      <td>2006.000000</td>\n",
              "      <td>5374.675000</td>\n",
              "    </tr>\n",
              "    <tr>\n",
              "      <th>75%</th>\n",
              "      <td>17.100000</td>\n",
              "      <td>0.095358</td>\n",
              "      <td>465.067500</td>\n",
              "      <td>2011.000000</td>\n",
              "      <td>8522.240000</td>\n",
              "    </tr>\n",
              "    <tr>\n",
              "      <th>max</th>\n",
              "      <td>21.350000</td>\n",
              "      <td>0.328391</td>\n",
              "      <td>667.220000</td>\n",
              "      <td>2016.000000</td>\n",
              "      <td>32717.410000</td>\n",
              "    </tr>\n",
              "  </tbody>\n",
              "</table>\n",
              "</div>"
            ],
            "text/plain": [
              "       Product_Weight  ...  Product_Supermarket_Sales\n",
              "count     4188.000000  ...                4990.000000\n",
              "mean        12.908838  ...                6103.520164\n",
              "std          4.703256  ...                4447.333835\n",
              "min          4.555000  ...                  83.230000\n",
              "25%          8.767500  ...                2757.660000\n",
              "50%         12.600000  ...                5374.675000\n",
              "75%         17.100000  ...                8522.240000\n",
              "max         21.350000  ...               32717.410000\n",
              "\n",
              "[8 rows x 5 columns]"
            ]
          },
          "metadata": {},
          "execution_count": 5
        }
      ]
    },
    {
      "cell_type": "code",
      "metadata": {
        "colab": {
          "base_uri": "https://localhost:8080/"
        },
        "id": "9Gb49tZiTkIY",
        "outputId": "993fa3c7-6e1a-4c8e-959f-113e869da5a7"
      },
      "source": [
        "supermarket_data['Supermarket_Type'].unique()"
      ],
      "execution_count": null,
      "outputs": [
        {
          "output_type": "execute_result",
          "data": {
            "text/plain": [
              "array(['Grocery Store', 'Supermarket Type1', 'Supermarket Type2',\n",
              "       'Supermarket Type3'], dtype=object)"
            ]
          },
          "metadata": {},
          "execution_count": 6
        }
      ]
    },
    {
      "cell_type": "code",
      "metadata": {
        "colab": {
          "base_uri": "https://localhost:8080/"
        },
        "id": "lzJqBa4HTxqr",
        "outputId": "224ad985-5aff-4f32-987f-a0304288ed4f"
      },
      "source": [
        "len(supermarket_data['Supermarket_Type'].unique())"
      ],
      "execution_count": null,
      "outputs": [
        {
          "output_type": "execute_result",
          "data": {
            "text/plain": [
              "4"
            ]
          },
          "metadata": {},
          "execution_count": 7
        }
      ]
    },
    {
      "cell_type": "code",
      "metadata": {
        "colab": {
          "base_uri": "https://localhost:8080/"
        },
        "id": "7eNwG7yzSzmo",
        "outputId": "d704c9f2-ef39-4596-8059-ade5cf1cac69"
      },
      "source": [
        "supermarket_data['Product_Type'].unique()"
      ],
      "execution_count": null,
      "outputs": [
        {
          "output_type": "execute_result",
          "data": {
            "text/plain": [
              "array(['Soft Drinks', 'Dairy', 'Hard Drinks', 'Canned', 'Frozen Foods',\n",
              "       'Fruits and Vegetables', 'Snack Foods', 'Baking Goods',\n",
              "       'Starchy Foods', 'Meat', 'Seafood', 'Breakfast', 'Breads',\n",
              "       'Health and Hygiene', 'Household', 'Others'], dtype=object)"
            ]
          },
          "metadata": {},
          "execution_count": 8
        }
      ]
    },
    {
      "cell_type": "code",
      "metadata": {
        "colab": {
          "base_uri": "https://localhost:8080/"
        },
        "id": "m1JrtyAkTYrI",
        "outputId": "f708ecd6-abbb-4f04-e52b-170190b34cd8"
      },
      "source": [
        "supermarket_data.Product_Type.value_counts()"
      ],
      "execution_count": null,
      "outputs": [
        {
          "output_type": "execute_result",
          "data": {
            "text/plain": [
              "Snack Foods              758\n",
              "Fruits and Vegetables    747\n",
              "Household                567\n",
              "Frozen Foods             457\n",
              "Canned                   376\n",
              "Dairy                    350\n",
              "Baking Goods             344\n",
              "Health and Hygiene       307\n",
              "Meat                     264\n",
              "Soft Drinks              261\n",
              "Breads                   137\n",
              "Hard Drinks              134\n",
              "Others                   100\n",
              "Starchy Foods             81\n",
              "Breakfast                 66\n",
              "Seafood                   41\n",
              "Name: Product_Type, dtype: int64"
            ]
          },
          "metadata": {},
          "execution_count": 9
        }
      ]
    },
    {
      "cell_type": "code",
      "metadata": {
        "id": "X05tkeSMKDZY",
        "colab": {
          "base_uri": "https://localhost:8080/"
        },
        "outputId": "829e4987-4ffe-48bf-f674-bfaa5289b512"
      },
      "source": [
        "supermarket_data.dtypes"
      ],
      "execution_count": null,
      "outputs": [
        {
          "output_type": "execute_result",
          "data": {
            "text/plain": [
              "Product_Identifier                 object\n",
              "Supermarket_Identifier             object\n",
              "Product_Supermarket_Identifier     object\n",
              "Product_Weight                    float64\n",
              "Product_Fat_Content                object\n",
              "Product_Shelf_Visibility          float64\n",
              "Product_Type                       object\n",
              "Product_Price                     float64\n",
              "Supermarket_Opening_Year            int64\n",
              "Supermarket _Size                  object\n",
              "Supermarket_Location_Type          object\n",
              "Supermarket_Type                   object\n",
              "Product_Supermarket_Sales         float64\n",
              "dtype: object"
            ]
          },
          "metadata": {},
          "execution_count": 10
        }
      ]
    },
    {
      "cell_type": "code",
      "metadata": {
        "id": "GSMwpu-bKDZZ",
        "colab": {
          "base_uri": "https://localhost:8080/",
          "height": 149
        },
        "outputId": "ff4e2ccc-3c17-4610-dc20-31afd06763cb"
      },
      "source": [
        "#view columns id\n",
        "supermarket_data.head(2)"
      ],
      "execution_count": null,
      "outputs": [
        {
          "output_type": "execute_result",
          "data": {
            "text/html": [
              "<div>\n",
              "<style scoped>\n",
              "    .dataframe tbody tr th:only-of-type {\n",
              "        vertical-align: middle;\n",
              "    }\n",
              "\n",
              "    .dataframe tbody tr th {\n",
              "        vertical-align: top;\n",
              "    }\n",
              "\n",
              "    .dataframe thead th {\n",
              "        text-align: right;\n",
              "    }\n",
              "</style>\n",
              "<table border=\"1\" class=\"dataframe\">\n",
              "  <thead>\n",
              "    <tr style=\"text-align: right;\">\n",
              "      <th></th>\n",
              "      <th>Product_Identifier</th>\n",
              "      <th>Supermarket_Identifier</th>\n",
              "      <th>Product_Supermarket_Identifier</th>\n",
              "      <th>Product_Weight</th>\n",
              "      <th>Product_Fat_Content</th>\n",
              "      <th>Product_Shelf_Visibility</th>\n",
              "      <th>Product_Type</th>\n",
              "      <th>Product_Price</th>\n",
              "      <th>Supermarket_Opening_Year</th>\n",
              "      <th>Supermarket _Size</th>\n",
              "      <th>Supermarket_Location_Type</th>\n",
              "      <th>Supermarket_Type</th>\n",
              "      <th>Product_Supermarket_Sales</th>\n",
              "    </tr>\n",
              "  </thead>\n",
              "  <tbody>\n",
              "    <tr>\n",
              "      <th>0</th>\n",
              "      <td>DRA12</td>\n",
              "      <td>CHUKWUDI010</td>\n",
              "      <td>DRA12_CHUKWUDI010</td>\n",
              "      <td>11.6</td>\n",
              "      <td>Low Fat</td>\n",
              "      <td>0.068535</td>\n",
              "      <td>Soft Drinks</td>\n",
              "      <td>357.54</td>\n",
              "      <td>2005</td>\n",
              "      <td>NaN</td>\n",
              "      <td>Cluster 3</td>\n",
              "      <td>Grocery Store</td>\n",
              "      <td>709.08</td>\n",
              "    </tr>\n",
              "    <tr>\n",
              "      <th>1</th>\n",
              "      <td>DRA12</td>\n",
              "      <td>CHUKWUDI013</td>\n",
              "      <td>DRA12_CHUKWUDI013</td>\n",
              "      <td>11.6</td>\n",
              "      <td>Low Fat</td>\n",
              "      <td>0.040912</td>\n",
              "      <td>Soft Drinks</td>\n",
              "      <td>355.79</td>\n",
              "      <td>1994</td>\n",
              "      <td>High</td>\n",
              "      <td>Cluster 3</td>\n",
              "      <td>Supermarket Type1</td>\n",
              "      <td>6381.69</td>\n",
              "    </tr>\n",
              "  </tbody>\n",
              "</table>\n",
              "</div>"
            ],
            "text/plain": [
              "  Product_Identifier  ... Product_Supermarket_Sales\n",
              "0              DRA12  ...                    709.08\n",
              "1              DRA12  ...                   6381.69\n",
              "\n",
              "[2 rows x 13 columns]"
            ]
          },
          "metadata": {},
          "execution_count": 11
        }
      ]
    },
    {
      "cell_type": "code",
      "metadata": {
        "id": "0OTdCwbJKDZZ"
      },
      "source": [
        "#Suppose we decide that these columns may not be important or relevant to the predictive model\n",
        "#Remove Id columns\n",
        "cols_2_remove = ['Product_Identifier', 'Supermarket_Identifier', 'Product_Supermarket_Identifier']\n",
        "newdata = supermarket_data.drop(cols_2_remove, axis=1)"
      ],
      "execution_count": null,
      "outputs": []
    },
    {
      "cell_type": "code",
      "metadata": {
        "id": "RwfcsCN_KDZZ",
        "colab": {
          "base_uri": "https://localhost:8080/",
          "height": 243
        },
        "outputId": "b6685d1c-1e64-4adc-ab6a-b9a50ae6da44"
      },
      "source": [
        "newdata.head()"
      ],
      "execution_count": null,
      "outputs": [
        {
          "output_type": "execute_result",
          "data": {
            "text/html": [
              "<div>\n",
              "<style scoped>\n",
              "    .dataframe tbody tr th:only-of-type {\n",
              "        vertical-align: middle;\n",
              "    }\n",
              "\n",
              "    .dataframe tbody tr th {\n",
              "        vertical-align: top;\n",
              "    }\n",
              "\n",
              "    .dataframe thead th {\n",
              "        text-align: right;\n",
              "    }\n",
              "</style>\n",
              "<table border=\"1\" class=\"dataframe\">\n",
              "  <thead>\n",
              "    <tr style=\"text-align: right;\">\n",
              "      <th></th>\n",
              "      <th>Product_Weight</th>\n",
              "      <th>Product_Fat_Content</th>\n",
              "      <th>Product_Shelf_Visibility</th>\n",
              "      <th>Product_Type</th>\n",
              "      <th>Product_Price</th>\n",
              "      <th>Supermarket_Opening_Year</th>\n",
              "      <th>Supermarket _Size</th>\n",
              "      <th>Supermarket_Location_Type</th>\n",
              "      <th>Supermarket_Type</th>\n",
              "      <th>Product_Supermarket_Sales</th>\n",
              "    </tr>\n",
              "  </thead>\n",
              "  <tbody>\n",
              "    <tr>\n",
              "      <th>0</th>\n",
              "      <td>11.6</td>\n",
              "      <td>Low Fat</td>\n",
              "      <td>0.068535</td>\n",
              "      <td>Soft Drinks</td>\n",
              "      <td>357.54</td>\n",
              "      <td>2005</td>\n",
              "      <td>NaN</td>\n",
              "      <td>Cluster 3</td>\n",
              "      <td>Grocery Store</td>\n",
              "      <td>709.08</td>\n",
              "    </tr>\n",
              "    <tr>\n",
              "      <th>1</th>\n",
              "      <td>11.6</td>\n",
              "      <td>Low Fat</td>\n",
              "      <td>0.040912</td>\n",
              "      <td>Soft Drinks</td>\n",
              "      <td>355.79</td>\n",
              "      <td>1994</td>\n",
              "      <td>High</td>\n",
              "      <td>Cluster 3</td>\n",
              "      <td>Supermarket Type1</td>\n",
              "      <td>6381.69</td>\n",
              "    </tr>\n",
              "    <tr>\n",
              "      <th>2</th>\n",
              "      <td>11.6</td>\n",
              "      <td>Low Fat</td>\n",
              "      <td>0.041178</td>\n",
              "      <td>Soft Drinks</td>\n",
              "      <td>350.79</td>\n",
              "      <td>2014</td>\n",
              "      <td>NaN</td>\n",
              "      <td>Cluster 2</td>\n",
              "      <td>Supermarket Type1</td>\n",
              "      <td>6381.69</td>\n",
              "    </tr>\n",
              "    <tr>\n",
              "      <th>3</th>\n",
              "      <td>11.6</td>\n",
              "      <td>Low Fat</td>\n",
              "      <td>0.041113</td>\n",
              "      <td>Soft Drinks</td>\n",
              "      <td>355.04</td>\n",
              "      <td>2016</td>\n",
              "      <td>Medium</td>\n",
              "      <td>Cluster 3</td>\n",
              "      <td>Supermarket Type2</td>\n",
              "      <td>2127.23</td>\n",
              "    </tr>\n",
              "    <tr>\n",
              "      <th>4</th>\n",
              "      <td>11.6</td>\n",
              "      <td>Ultra Low fat</td>\n",
              "      <td>0.000000</td>\n",
              "      <td>Soft Drinks</td>\n",
              "      <td>354.79</td>\n",
              "      <td>2011</td>\n",
              "      <td>Small</td>\n",
              "      <td>Cluster 2</td>\n",
              "      <td>Supermarket Type1</td>\n",
              "      <td>2481.77</td>\n",
              "    </tr>\n",
              "  </tbody>\n",
              "</table>\n",
              "</div>"
            ],
            "text/plain": [
              "   Product_Weight  ... Product_Supermarket_Sales\n",
              "0            11.6  ...                    709.08\n",
              "1            11.6  ...                   6381.69\n",
              "2            11.6  ...                   6381.69\n",
              "3            11.6  ...                   2127.23\n",
              "4            11.6  ...                   2481.77\n",
              "\n",
              "[5 rows x 10 columns]"
            ]
          },
          "metadata": {},
          "execution_count": 14
        }
      ]
    },
    {
      "cell_type": "code",
      "metadata": {
        "id": "3dPZqK5DKDZa",
        "colab": {
          "base_uri": "https://localhost:8080/"
        },
        "outputId": "7802e2a9-439d-44dc-a455-3afa0ce00588"
      },
      "source": [
        "newdata.shape"
      ],
      "execution_count": null,
      "outputs": [
        {
          "output_type": "execute_result",
          "data": {
            "text/plain": [
              "(4990, 10)"
            ]
          },
          "metadata": {},
          "execution_count": 15
        }
      ]
    },
    {
      "cell_type": "code",
      "metadata": {
        "id": "OmjTmj9eKDZa"
      },
      "source": [
        "#divide into categorical (non-numerical) and numerical columns\n",
        "cat_cols = ['Product_Fat_Content','Product_Type',\n",
        "            'Supermarket _Size', 'Supermarket_Location_Type',\n",
        "           'Supermarket_Type' ]\n",
        "\n",
        "num_cols = ['Product_Weight', 'Product_Shelf_Visibility',\n",
        "            'Product_Price', 'Supermarket_Opening_Year', 'Product_Supermarket_Sales']"
      ],
      "execution_count": null,
      "outputs": []
    },
    {
      "cell_type": "markdown",
      "metadata": {
        "id": "Xt35cOzMWeOH"
      },
      "source": [
        "##Without Visualization\n",
        "What can we tell about each column?"
      ]
    },
    {
      "cell_type": "code",
      "metadata": {
        "colab": {
          "base_uri": "https://localhost:8080/"
        },
        "id": "AzBMw6PUUf3x",
        "outputId": "69be520b-c533-4e14-d113-a810cb4c56f5"
      },
      "source": [
        "#find the number of cols in cat_cols\n",
        "len(cat_cols)"
      ],
      "execution_count": null,
      "outputs": [
        {
          "output_type": "execute_result",
          "data": {
            "text/plain": [
              "5"
            ]
          },
          "metadata": {},
          "execution_count": 18
        }
      ]
    },
    {
      "cell_type": "code",
      "metadata": {
        "colab": {
          "base_uri": "https://localhost:8080/"
        },
        "id": "DE0TKpGrV1wf",
        "outputId": "923def2b-249f-4840-85bd-b62f998d72c2"
      },
      "source": [
        "newdata['Product_Fat_Content'].value_counts()"
      ],
      "execution_count": null,
      "outputs": [
        {
          "output_type": "execute_result",
          "data": {
            "text/plain": [
              "Low Fat          3039\n",
              "Normal Fat       1773\n",
              "Ultra Low fat     178\n",
              "Name: Product_Fat_Content, dtype: int64"
            ]
          },
          "metadata": {},
          "execution_count": 20
        }
      ]
    },
    {
      "cell_type": "markdown",
      "metadata": {
        "id": "vH4hW3VTKDZa"
      },
      "source": [
        "#2.Data Visulization\n"
      ]
    },
    {
      "cell_type": "markdown",
      "metadata": {
        "id": "k86VEdUTK7eD"
      },
      "source": [
        "##Bar Plot\n",
        "Use bar plot for categorical features or columns\n",
        "\n",
        "Note: The gca() function in pyplot module of matplotlib library is used to get the current Axes instance on the current figure matching the given keyword args, or create one. \n"
      ]
    },
    {
      "cell_type": "code",
      "metadata": {
        "colab": {
          "base_uri": "https://localhost:8080/"
        },
        "id": "t79XHV1TQpRl",
        "outputId": "01d68c9d-7152-4a1d-a0c3-f2c46ecae9c8"
      },
      "source": [
        "counts = newdata['Product_Fat_Content'].value_counts() # find the counts for each unique category in column Product_Fat_Content\n",
        "counts"
      ],
      "execution_count": null,
      "outputs": [
        {
          "output_type": "execute_result",
          "data": {
            "text/plain": [
              "Low Fat          3039\n",
              "Normal Fat       1773\n",
              "Ultra Low fat     178\n",
              "Name: Product_Fat_Content, dtype: int64"
            ]
          },
          "metadata": {},
          "execution_count": 21
        }
      ]
    },
    {
      "cell_type": "code",
      "metadata": {
        "colab": {
          "base_uri": "https://localhost:8080/",
          "height": 444
        },
        "id": "4OXhMVnPOUci",
        "outputId": "b9fbe2be-5f11-434c-cda4-580266127121"
      },
      "source": [
        "fig = plt.figure(figsize=(6,6)) # define plot area in inches\n",
        "ax = fig.gca() #get current axes or define axes\n",
        "ax.set_title('Bar plot for Product_Fat_Content')\n",
        "\n",
        "counts.plot.bar(ax = ax) # Use the plot.bar method on the counts \n",
        "plt.show()"
      ],
      "execution_count": null,
      "outputs": [
        {
          "output_type": "display_data",
          "data": {
            "image/png": "[encoded data removed]",
            "text/plain": [
              "<Figure size 432x432 with 1 Axes>"
            ]
          },
          "metadata": {
            "needs_background": "light"
          }
        }
      ]
    },
    {
      "cell_type": "markdown",
      "metadata": {
        "id": "q829-oSGKDZb"
      },
      "source": [
        "##Scatter plot \n",
        "Use scatter plot for numerical features or columns. In this case, we look at num_cols.\n",
        "\n",
        " **num_cols = ['Product_Weight', 'Product_Shelf_Visibility',\n",
        "            'Product_Price', 'Supermarket_Opening_Year', 'Product_Supermarket_Sales']**\n",
        "\n",
        "Notice that Product_Supermarket_Sales and **Product_Shelf_Visibility** were right skewed, log transform could be applied to create a normal distribution."
      ]
    },
    {
      "cell_type": "code",
      "metadata": {
        "colab": {
          "base_uri": "https://localhost:8080/",
          "height": 389
        },
        "id": "Xkw6_ExvR-sX",
        "outputId": "c137f97e-b40b-4702-9b10-344263bac7de"
      },
      "source": [
        "fig = plt.figure(figsize=(6,6)) # define plot area\n",
        "ax = fig.gca() #get current axes or define axes\n",
        "newdata.plot.scatter(x = 'Product_Weight', y = 'Product_Supermarket_Sales', ax = ax)\n",
        "plt.show()"
      ],
      "execution_count": null,
      "outputs": [
        {
          "output_type": "display_data",
          "data": {
            "image/png": "[encoded data removed]",
            "text/plain": [
              "<Figure size 432x432 with 1 Axes>"
            ]
          },
          "metadata": {
            "needs_background": "light"
          }
        }
      ]
    },
    {
      "cell_type": "code",
      "metadata": {
        "colab": {
          "base_uri": "https://localhost:8080/",
          "height": 389
        },
        "id": "SA2Pss_VTXNI",
        "outputId": "336d4bba-0f77-47e8-ebde-2132873493e5"
      },
      "source": [
        "fig = plt.figure(figsize=(6,6)) # define plot area\n",
        "ax = fig.gca() #get current axes or define axes\n",
        "newdata.plot.scatter(x = 'Product_Shelf_Visibility', y = 'Product_Supermarket_Sales', ax = ax)\n",
        "plt.show()"
      ],
      "execution_count": null,
      "outputs": [
        {
          "output_type": "display_data",
          "data": {
            "image/png": "[encoded data removed]",
            "text/plain": [
              "<Figure size 432x432 with 1 Axes>"
            ]
          },
          "metadata": {
            "needs_background": "light"
          }
        }
      ]
    },
    {
      "cell_type": "code",
      "metadata": {
        "colab": {
          "base_uri": "https://localhost:8080/",
          "height": 389
        },
        "id": "sUXrzEKhTYgu",
        "outputId": "317cf787-1cf1-4e24-d964-703c94e0cc24"
      },
      "source": [
        "fig = plt.figure(figsize=(6,6)) # define plot area\n",
        "ax = fig.gca() #get current axes or define axes\n",
        "newdata.plot.scatter(x = 'Product_Price', y = 'Product_Supermarket_Sales', ax = ax)\n",
        "plt.show()"
      ],
      "execution_count": null,
      "outputs": [
        {
          "output_type": "display_data",
          "data": {
            "image/png": "[encoded data removed]",
            "text/plain": [
              "<Figure size 432x432 with 1 Axes>"
            ]
          },
          "metadata": {
            "needs_background": "light"
          }
        }
      ]
    },
    {
      "cell_type": "code",
      "metadata": {
        "colab": {
          "base_uri": "https://localhost:8080/",
          "height": 389
        },
        "id": "l30O9kz7TZbF",
        "outputId": "62f53018-88d1-477d-bd7c-9cc1804b8119"
      },
      "source": [
        "fig = plt.figure(figsize=(6,6)) # define plot area\n",
        "ax = fig.gca() #get current axes or define axes\n",
        "newdata.plot.scatter(x = 'Supermarket_Opening_Year', y = 'Product_Supermarket_Sales', ax = ax)\n",
        "plt.show()"
      ],
      "execution_count": null,
      "outputs": [
        {
          "output_type": "display_data",
          "data": {
            "image/png": "[encoded data removed]",
            "text/plain": [
              "<Figure size 432x432 with 1 Axes>"
            ]
          },
          "metadata": {
            "needs_background": "light"
          }
        }
      ]
    },
    {
      "cell_type": "markdown",
      "metadata": {
        "id": "cf9I4LsQcG_3"
      },
      "source": [
        "##Box Plot\n",
        "Plot categorical columns against target column using seaborn\n",
        "\n",
        "Syntax :\n",
        "seaborn.boxplot(x=None, y=None, hue=None, data=None, order=None, hue_order=None, orient=None, color=None, palette=None, saturation=0.75, width=0.8, dodge=True, fliersize=5, linewidth=None, whis=1.5, notch=False, ax=None, **kwargs)\n",
        "\n",
        "**Parameters:**\n",
        "\n",
        "x = feature of dataset\n",
        "\n",
        "y = feature of dataset\n",
        "\n",
        "hue = feature of dataset\n",
        "\n",
        "data = datafram or full dataset\n",
        "\n",
        "color = color name"
      ]
    },
    {
      "cell_type": "code",
      "metadata": {
        "colab": {
          "base_uri": "https://localhost:8080/",
          "height": 280
        },
        "id": "gDy8bDMTU5fV",
        "outputId": "c812d90a-1731-4f39-f555-69f0c2c668bf"
      },
      "source": [
        "sns.boxplot(x='Product_Fat_Content', y = 'Product_Supermarket_Sales', data=newdata)\n",
        "plt.xlabel('Product_Fat_Content',) # Set text for the x axis\n",
        "plt.ylabel('Product Supermarket Sales')# Set text for y axis\n",
        "plt.show()\n",
        "  "
      ],
      "execution_count": null,
      "outputs": [
        {
          "output_type": "display_data",
          "data": {
            "image/png": "[encoded data removed]",
            "text/plain": [
              "<Figure size 432x288 with 1 Axes>"
            ]
          },
          "metadata": {
            "needs_background": "light"
          }
        }
      ]
    },
    {
      "cell_type": "markdown",
      "metadata": {
        "id": "pKqj3bWaKDZc"
      },
      "source": [
        "##Heat map\n",
        "Use pandas .corr( ) function to calculate correlation among data.\n",
        "The seaborn heatmap takes the correlation matrix calculated on the numerical features in the dataset and makes a heated plot of it. \n",
        "\n",
        "**Interpreting Heatmaps**\n",
        "Each square in a heatmap shows how much any two feature correlates (is there some kind of relationship between them). Does the increase in one feature result in the increase of the other? (Positive correlation) or does the increase in one result in the decrease of the other? (Negative correlation).\n",
        "\n",
        "*   The vertical range running from 0.0 to 1.0 shows you the relative size of the correlation between any two features, where hotter values are higher and means more correlation.\n",
        "*   The diagonal almost-whitish portion of the matrix shows that all features are highly correlated to themselves.\n",
        "\n",
        "Investigate the relationship between all the features in the dataset, plot each feature against the others. Use Seaborn’s pairplot( ) function\n"
      ]
    },
    {
      "cell_type": "code",
      "metadata": {
        "id": "YeTSCfJXKDZc",
        "colab": {
          "base_uri": "https://localhost:8080/",
          "height": 584
        },
        "outputId": "3d4ffe5b-8c46-46db-f758-b91a498f2c7b"
      },
      "source": [
        "#CORRELATION MATRIX AMONG FEATURES\n",
        "#calculate the correlation on the data using the pandas .corr( ) function we store it in the variable corrmat\n",
        "corrmat = newdata.corr()\n",
        "f,ax = plt.subplots(figsize=(10,8))\n",
        "sns.heatmap(corrmat, square=True)\n",
        "plt.show()"
      ],
      "execution_count": null,
      "outputs": [
        {
          "output_type": "display_data",
          "data": {
            "image/png": "[encoded data removed]",
            "text/plain": [
              "<Figure size 720x576 with 2 Axes>"
            ]
          },
          "metadata": {
            "needs_background": "light"
          }
        }
      ]
    },
    {
      "cell_type": "markdown",
      "metadata": {
        "id": "AwONfpEMKDZd"
      },
      "source": [
        "#3.Feature Engineering\n",
        "FE is to use knowledge of the dataset to create new features that can help a machine learning model perform better.\n",
        "\n",
        "To do Feature Engineering, a **data scientist** must use domain knowledge (Knowledge about a specific field), math and programming skills to transform or come up with new features that will help a machine learning model perform better.\n",
        "\n",
        "\n",
        "Ref: [Feature Engineering and Data Preparation Using Supermarket Sales Data](https://towardsdatascience.com/feature-engineering-and-data-preparation-using-supermarket-sales-data-part-2-171b7a7a7eb7)"
      ]
    },
    {
      "cell_type": "markdown",
      "metadata": {
        "id": "kqGZoONhKDZd"
      },
      "source": [
        "##Ex1 \n",
        "Create a new  feature that is a Boolean (binary) class to separate Normal Fat from the other classes, i.e., reducing to two types of fat."
      ]
    },
    {
      "cell_type": "code",
      "metadata": {
        "id": "W-xD_EynKDZd",
        "colab": {
          "base_uri": "https://localhost:8080/"
        },
        "outputId": "bd98095d-cb27-493f-cf55-d9c1c46d1acb"
      },
      "source": [
        "#print out all unique values\n",
        "newdata['Product_Fat_Content'].unique()"
      ],
      "execution_count": null,
      "outputs": [
        {
          "output_type": "execute_result",
          "data": {
            "text/plain": [
              "array(['Low Fat', 'Ultra Low fat', 'Normal Fat'], dtype=object)"
            ]
          },
          "metadata": {
            "tags": []
          },
          "execution_count": 243
        }
      ]
    },
    {
      "cell_type": "code",
      "metadata": {
        "id": "cOoefW1gKDZd",
        "colab": {
          "base_uri": "https://localhost:8080/"
        },
        "outputId": "c3a43195-8a03-4a66-c6d4-7d1d4ce00ded"
      },
      "source": [
        "fat_content_dict = {'Low Fat': 0, 'Ultra Low fat': 0, 'Normal Fat': 1}\n",
        "newdata['is_normal_fat'] = newdata['Product_Fat_Content'].map(fat_content_dict)\n",
        "#count the number of  values in each class\n",
        "newdata['is_normal_fat'].value_counts()"
      ],
      "execution_count": null,
      "outputs": [
        {
          "output_type": "execute_result",
          "data": {
            "text/plain": [
              "0    3217\n",
              "1    1773\n",
              "Name: is_normal_fat, dtype: int64"
            ]
          },
          "metadata": {
            "tags": []
          },
          "execution_count": 244
        }
      ]
    },
    {
      "cell_type": "markdown",
      "metadata": {
        "id": "gBjf4_v1KDZe"
      },
      "source": [
        "##Ex2 \n",
        "Create a feature or column that captures the year of opening. This feature will separate Supermarket_Opening_Year into the 90s and 2000s."
      ]
    },
    {
      "cell_type": "code",
      "metadata": {
        "id": "TTzM7ilQKDZe"
      },
      "source": [
        "#Assign year 2000 and above as 1, 1996 and below as 0\n",
        "\n",
        "def cluster_open_year(year):\n",
        "    if year <= 1996:\n",
        "        return 0\n",
        "    else:\n",
        "        return 1\n",
        "    \n",
        "newdata['open_in_the_2000s'] = newdata['Supermarket_Opening_Year'].apply(cluster_open_year)"
      ],
      "execution_count": null,
      "outputs": []
    },
    {
      "cell_type": "code",
      "metadata": {
        "id": "2njHqbUPKDZe",
        "colab": {
          "base_uri": "https://localhost:8080/"
        },
        "outputId": "2eb94a23-e582-4339-c6de-91c4318a61a1"
      },
      "source": [
        "#Preview created feature\n",
        "newdata[['Supermarket_Opening_Year', 'open_in_the_2000s']].head(10)"
      ],
      "execution_count": null,
      "outputs": [
        {
          "output_type": "execute_result",
          "data": {
            "text/html": [
              "<div>\n",
              "<style scoped>\n",
              "    .dataframe tbody tr th:only-of-type {\n",
              "        vertical-align: middle;\n",
              "    }\n",
              "\n",
              "    .dataframe tbody tr th {\n",
              "        vertical-align: top;\n",
              "    }\n",
              "\n",
              "    .dataframe thead th {\n",
              "        text-align: right;\n",
              "    }\n",
              "</style>\n",
              "<table border=\"1\" class=\"dataframe\">\n",
              "  <thead>\n",
              "    <tr style=\"text-align: right;\">\n",
              "      <th></th>\n",
              "      <th>Supermarket_Opening_Year</th>\n",
              "      <th>open_in_the_2000s</th>\n",
              "    </tr>\n",
              "  </thead>\n",
              "  <tbody>\n",
              "    <tr>\n",
              "      <th>0</th>\n",
              "      <td>2005</td>\n",
              "      <td>1</td>\n",
              "    </tr>\n",
              "    <tr>\n",
              "      <th>1</th>\n",
              "      <td>1994</td>\n",
              "      <td>0</td>\n",
              "    </tr>\n",
              "    <tr>\n",
              "      <th>2</th>\n",
              "      <td>2014</td>\n",
              "      <td>1</td>\n",
              "    </tr>\n",
              "    <tr>\n",
              "      <th>3</th>\n",
              "      <td>2016</td>\n",
              "      <td>1</td>\n",
              "    </tr>\n",
              "    <tr>\n",
              "      <th>4</th>\n",
              "      <td>2011</td>\n",
              "      <td>1</td>\n",
              "    </tr>\n",
              "    <tr>\n",
              "      <th>5</th>\n",
              "      <td>2009</td>\n",
              "      <td>1</td>\n",
              "    </tr>\n",
              "    <tr>\n",
              "      <th>6</th>\n",
              "      <td>2005</td>\n",
              "      <td>1</td>\n",
              "    </tr>\n",
              "    <tr>\n",
              "      <th>7</th>\n",
              "      <td>1994</td>\n",
              "      <td>0</td>\n",
              "    </tr>\n",
              "    <tr>\n",
              "      <th>8</th>\n",
              "      <td>2014</td>\n",
              "      <td>1</td>\n",
              "    </tr>\n",
              "    <tr>\n",
              "      <th>9</th>\n",
              "      <td>1992</td>\n",
              "      <td>0</td>\n",
              "    </tr>\n",
              "  </tbody>\n",
              "</table>\n",
              "</div>"
            ],
            "text/plain": [
              "   Supermarket_Opening_Year  open_in_the_2000s\n",
              "0                      2005                  1\n",
              "1                      1994                  0\n",
              "2                      2014                  1\n",
              "3                      2016                  1\n",
              "4                      2011                  1\n",
              "5                      2009                  1\n",
              "6                      2005                  1\n",
              "7                      1994                  0\n",
              "8                      2014                  1\n",
              "9                      1992                  0"
            ]
          },
          "metadata": {
            "tags": []
          },
          "execution_count": 246
        }
      ]
    }
  ]
}